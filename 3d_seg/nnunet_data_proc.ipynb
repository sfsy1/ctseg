{
 "cells": [
  {
   "metadata": {},
   "cell_type": "markdown",
   "source": [
    "# 3D lesion data processing into nnUNet format\n",
    "https://github.com/MIC-DKFZ/nnUNet/blob/master/documentation/dataset_format.md"
   ],
   "id": "45f97ce9573a9d77"
  },
  {
   "cell_type": "code",
   "id": "initial_id",
   "metadata": {
    "collapsed": true
   },
   "source": [
    "import os\n",
    "from pathlib import Path\n",
    "import nibabel as nib\n",
    "import shutil\n",
    "import glob\n",
    "from tqdm import tqdm\n",
    "import SimpleITK as sitk\n",
    "\n",
    "from utils.plot import transparent_cmap\n",
    "\n",
    "data_folder = Path(\"/media/liushifeng/KINGSTON/nnUNet_raw/Dataset001_3dlesion\")\n",
    "train_images = data_folder / \"imagesTr\"\n",
    "train_labels = data_folder / \"labelsTr\""
   ],
   "outputs": [],
   "execution_count": null
  },
  {
   "metadata": {},
   "cell_type": "code",
   "source": [
    "# ULS / Deeplesion 3D dataset\n",
    "uls_folder = Path(\"/media/liushifeng/KINGSTON/ULS Jan 2025/ULS23/novel_data/ULS23_DeepLesion3D/\")\n",
    "image_folder = uls_folder / \"images\"\n",
    "label_folder = uls_folder / \"labels\"\n",
    "\n",
    "# check image shapes are 3D + channel\n",
    "for i in os.listdir(image_folder):\n",
    "    if len(nib.load(image_folder / i).shape) != 4:\n",
    "        print(i, \"need 4 dims\")\n",
    "\n",
    "# copy images over and add prefix\n",
    "file_type = \".nii.gz\"\n",
    "prefix = \"ULSDL3D\"\n",
    "for f in os.listdir(image_folder):\n",
    "    if f.endswith(file_type):\n",
    "        shutil.copy2(image_folder / f, train_images / f\"{prefix}_{f}\")\n",
    "\n",
    "file_type = \".nii.gz\"\n",
    "for f in os.listdir(label_folder):\n",
    "    if f.endswith(file_type):\n",
    "        shutil.copy2(label_folder / f, train_labels / f\"{prefix}_{f}\")\n",
    "\n",
    "# remove images that do not have labels\n",
    "label_files = os.listdir(train_labels)\n",
    "to_remove = [x for x in os.listdir(train_images) if x not in label_files]\n",
    "print(\"removing:\", to_remove)\n",
    "for p in to_remove:\n",
    "    os.remove(train_images / p)"
   ],
   "id": "8aee429d902ff64c",
   "outputs": [],
   "execution_count": null
  },
  {
   "metadata": {},
   "cell_type": "code",
   "source": [
    "# internal AutoPET dataset\n",
    "# use lymphoma and melanoma dataset Bs as training data\n",
    "folder = Path(\"/home/liushifeng/Desktop/AutoPET dataset/dataset B_lymphoma/\")\n",
    "prefix = \"AutoPET-Lymphoma-B\"\n",
    "for ct_path in tqdm(glob.glob(str(folder) + \"/**/CT.nii.gz\", recursive=True)):\n",
    "    name = Path(ct_path).parents[1].stem\n",
    "    shutil.copy2(ct_path, train_images / f\"{prefix}_{name}_{Path(ct_path).name}\")\n",
    "\n",
    "folder = Path(\"/home/liushifeng/Desktop/AutoPET dataset/SEG_Lymphoma_B_Rifki-selected/\")\n",
    "for f in tqdm(os.listdir(folder)):\n",
    "    if f.endswith(\".nrrd\"):\n",
    "        name = Path(f).stem[4:].split(\".\")[0]\n",
    "        output_name = f\"{prefix}_PETCT_{name}_CT.nii.gz\"\n",
    "        sitk.WriteImage(sitk.ReadImage(folder / f), train_labels / output_name)\n",
    "\n",
    "ap_folder = Path(\"/home/liushifeng/Desktop/AutoPET dataset/dataset B_melanoma/\")\n",
    "prefix = \"AutoPET-Melanoma-B\"\n",
    "for ct_path in tqdm(glob.glob(str(ap_folder) + \"/**/CT.nii.gz\", recursive=True)):\n",
    "    name = Path(ct_path).parents[1].stem\n",
    "    shutil.copy2(ct_path, train_images / f\"{prefix}_{name}_{Path(ct_path).name}\")\n",
    "\n",
    "folder = Path(\"/home/liushifeng/Desktop/AutoPET dataset/SEG_Melanoma_B_Rifki/\")\n",
    "for f in tqdm(os.listdir(folder)):\n",
    "    if f.endswith(\".nrrd\"):\n",
    "        name = Path(f).stem[4:].split(\".\")[0]\n",
    "        output_name = f\"{prefix}_PETCT_{name}_CT.nii.gz\"\n",
    "        sitk.WriteImage(sitk.ReadImage(folder / f), train_labels / output_name)\n",
    "\n",
    "# # use lymphoma and melanoma dataset Cs as test data\n",
    "# ap_folder = Path(\"/home/liushifeng/Desktop/AutoPET dataset/dataset C_lymphoma/\")\n",
    "# prefix = \"AutoPET-Lymphoma-C\"\n",
    "# for ct_path in tqdm(glob.glob(str(ap_folder) + \"/**/CT.nii.gz\", recursive=True)):\n",
    "#     name = Path(ct_path).parents[1].stem\n",
    "#     shutil.copy2(ct_path, TEST_FOLDER_PATH / f\"{prefix}_{name}_{Path(ct_path).name}\")\n",
    "#\n",
    "# ap_folder = Path(\"/home/liushifeng/Desktop/AutoPET dataset/dataset C_melanoma/\")\n",
    "# prefix = \"AutoPET-Melanoma-C\"\n",
    "# for ct_path in tqdm(glob.glob(str(ap_folder) + \"/**/CT.nii.gz\", recursive=True)):\n",
    "#     name = Path(ct_path).parents[1].stem\n",
    "#     shutil.copy2(ct_path, TEST_FOLDER_PATH / f\"{prefix}_{name}_{Path(ct_path).name}\")"
   ],
   "id": "3ed708f304222fd6",
   "outputs": [],
   "execution_count": null
  },
  {
   "metadata": {},
   "cell_type": "code",
   "source": [
    "image_files = os.listdir(train_images)\n",
    "label_files = os.listdir(train_labels)\n",
    "\n",
    "images_with_no_labels = [x for x in image_files if x not in label_files]\n",
    "labels_with_no_images = [x for x in label_files if x not in image_files]"
   ],
   "id": "caa419c464d18053",
   "outputs": [],
   "execution_count": null
  },
  {
   "metadata": {},
   "cell_type": "code",
   "source": [
    "print(\"removing:\", images_with_no_labels, labels_with_no_images)\n",
    "for p in images_with_no_labels:\n",
    "    os.remove(train_images / p)\n",
    "\n",
    "for p in labels_with_no_images:\n",
    "    os.remove(train_labels / p)"
   ],
   "id": "320fc9d2f21e2bcb",
   "outputs": [],
   "execution_count": null
  },
  {
   "metadata": {},
   "cell_type": "code",
   "source": [
    "# Add _0000 to all training images to indicate channel\n",
    "for f in os.listdir(train_images):\n",
    "    os.rename(train_images / f, train_images / f.replace('.nii.gz', '_0000.nii.gz'))"
   ],
   "id": "d44365ce11693008",
   "outputs": [],
   "execution_count": null
  },
  {
   "metadata": {},
   "cell_type": "code",
   "source": [
    "for f in tqdm(sorted(os.listdir(train_labels))):\n",
    "    img_path = train_images / f.replace('.nii.gz', '_0000.nii.gz')\n",
    "    label_path = train_labels / f\n",
    "    img = sitk.ReadImage(img_path)\n",
    "    seg = sitk.ReadImage(label_path)\n",
    "    # seg_img = sitk.Resample(seg, img, sitk.Transform(), sitk.sitkNearestNeighbor, 0.0, img.GetPixelID())\n",
    "\n",
    "    # ct_data = sitk.GetArrayFromImage(img)\n",
    "    # seg_data = sitk.GetArrayFromImage(seg)\n",
    "    # resampled = sitk.GetArrayFromImage(seg_img)\n",
    "    i = img.GetSize()\n",
    "    s = seg.GetSize()\n",
    "    if i != s:\n",
    "        print(f\"resampled {f}\")\n",
    "        print(i, s)\n",
    "\n",
    "            # break\n",
    "    # sitk.WriteImage(seg_img, label_path)"
   ],
   "id": "32547ebcc3dedbe6",
   "outputs": [],
   "execution_count": null
  },
  {
   "metadata": {},
   "cell_type": "markdown",
   "source": [
    "## Visualize data\n",
    "Verify images and segmentations match"
   ],
   "id": "4342c5df98205ea1"
  },
  {
   "metadata": {},
   "cell_type": "code",
   "source": [
    "import random\n",
    "\n",
    "data_folder = Path(\"/media/liushifeng/KINGSTON/nnUNet_raw/Dataset001_3dlesion\")\n",
    "train_images = data_folder / \"imagesTr\"\n",
    "train_labels = data_folder / \"labelsTr\""
   ],
   "id": "3c9cb5ca536607aa",
   "outputs": [],
   "execution_count": null
  },
  {
   "metadata": {},
   "cell_type": "code",
   "source": [
    "import matplotlib.pyplot as plt\n",
    "\n",
    "def plot(f, ct_data, seg_data):\n",
    "\n",
    "    slice_index = seg_data.sum(axis=(1,2)).argmax()\n",
    "    ct_slice = ct_data[slice_index, :, :, ]\n",
    "    seg_slice = seg_data[slice_index, :, :]\n",
    "\n",
    "    print(f)\n",
    "    fig, ax = plt.subplots(1,2, figsize=(8,4))\n",
    "    ax[0].imshow(ct_slice, cmap='gray')\n",
    "    ax[1].imshow(ct_slice, cmap='gray')\n",
    "    ax[1].imshow(seg_slice, cmap=transparent_cmap('r'), alpha=0.3)\n",
    "\n",
    "    for a in ax:\n",
    "        a.axis('off')\n",
    "    plt.show()"
   ],
   "id": "44827cdf97589ba5",
   "outputs": [],
   "execution_count": null
  },
  {
   "metadata": {
    "ExecuteTime": {
     "end_time": "2025-04-07T09:08:01.427492Z",
     "start_time": "2025-04-07T09:07:27.600722Z"
    }
   },
   "cell_type": "code",
   "source": [
    "uls_img = [x for x in os.listdir(train_images) if x.startswith(\"ULS\")]\n",
    "ap_img = [x for x in os.listdir(train_images) if x.startswith(\"AutoPET\")]\n",
    "\n",
    "# filenames = random.sample(ap_img, 5) + random.sample(uls_img, 5)\n",
    "filenames = uls_img + ap_img\n",
    "n = 0\n",
    "\n",
    "volumes = []\n",
    "\n",
    "for i, f in enumerate(filenames):\n",
    "    ct_path = train_images / f\n",
    "    seg_path = train_labels / f.replace(\"_0000.nii.gz\", \".nii.gz\")\n",
    "\n",
    "    seg_img = sitk.ReadImage(seg_path)\n",
    "    seg_data = sitk.GetArrayFromImage(seg_img)\n",
    "\n",
    "    volumes.append(seg_data.mean())\n",
    "    # if seg_data.mean() > 5e-4:\n",
    "    #     print(seg_data.mean())\n",
    "    #     ct_img = sitk.ReadImage(ct_path)\n",
    "    #     ct_data = sitk.GetArrayFromImage(ct_img)\n",
    "    #     plot(f, ct_data, seg_data)\n",
    "    #     n += 1\n",
    "\n",
    "    # if n > 10:\n",
    "    #     break\n"
   ],
   "id": "72550c52cb699d85",
   "outputs": [],
   "execution_count": 22
  },
  {
   "metadata": {},
   "cell_type": "code",
   "source": [
    "import pandas as pd\n",
    "\n",
    "pd.Series(volumes).clip(0,0.001).hist(bins=100, figsize=(4,2));\n",
    "plt.title(\"Volume of lesion / scan\")"
   ],
   "id": "e506f2715b984b15",
   "outputs": [],
   "execution_count": null
  }
 ],
 "metadata": {
  "kernelspec": {
   "display_name": "Python 3",
   "language": "python",
   "name": "python3"
  },
  "language_info": {
   "codemirror_mode": {
    "name": "ipython",
    "version": 2
   },
   "file_extension": ".py",
   "mimetype": "text/x-python",
   "name": "python",
   "nbconvert_exporter": "python",
   "pygments_lexer": "ipython2",
   "version": "2.7.6"
  }
 },
 "nbformat": 4,
 "nbformat_minor": 5
}
