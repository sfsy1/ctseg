{
 "cells": [
  {
   "metadata": {},
   "cell_type": "markdown",
   "source": [
    "# Create extra seg mask input channel\n",
    "Using segmentation masks from [CT-FM segmentator](https://huggingface.co/project-lighter/whole_body_segmentation) as an extra input channel for inputs to nnUNetv2.\n",
    "* original seg output: 118 classes, one channel for every class\n",
    "* processed as input: encoded to int (0-117) in a single channel, normalized to (0-1)\n"
   ],
   "id": "a303ef266f799496"
  },
  {
   "metadata": {},
   "cell_type": "code",
   "source": [
    "%load_ext autoreload\n",
    "%autoreload 2"
   ],
   "id": "4c239b560d6384f7",
   "outputs": [],
   "execution_count": null
  },
  {
   "metadata": {},
   "cell_type": "code",
   "source": [
    "import os\n",
    "from pathlib import Path\n",
    "\n",
    "import SimpleITK as sitk\n",
    "import matplotlib.pyplot as plt\n",
    "import torch\n",
    "from tqdm import tqdm\n",
    "\n",
    "from lighter_zoo import SegResNet\n",
    "from monai.transforms import LoadImage\n",
    "from ctfm_utils import inference"
   ],
   "id": "9252cd926767b19c",
   "outputs": [],
   "execution_count": null
  },
  {
   "metadata": {},
   "cell_type": "code",
   "source": [
    "data_folder = Path(\"/media/liushifeng/KINGSTON/nnUNet_raw/Dataset002_3dlesion_ctfm_seg/\")\n",
    "train_images = data_folder / \"imagesTr\"\n",
    "train_labels = data_folder / \"labelsTr\"\n",
    "\n",
    "train_names = os.listdir(train_images)\n",
    "train_names = [n for n in train_names if n.endswith(\"_0000.nii.gz\")]\n",
    "\n",
    "ap_names = [n for n in train_names if n.startswith(\"AutoPET\")]"
   ],
   "id": "910a9cdf872061f",
   "outputs": [],
   "execution_count": null
  },
  {
   "metadata": {},
   "cell_type": "markdown",
   "source": [
    "## Crop large volumes\n",
    "AutoPET CT and label volumes are cropped only to horizontal slices with lesions + a margin of 10% of total slices."
   ],
   "id": "b01940942b62abe1"
  },
  {
   "metadata": {},
   "cell_type": "code",
   "source": [
    "# import numpy as np\n",
    "# for ap_name in tqdm(ap_names):\n",
    "#     ct_path = train_images / ap_name\n",
    "#     ct_img = sitk.ReadImage(ct_path)\n",
    "#\n",
    "#     label_path = train_labels / ap_name.replace(\"_0000.nii.gz\", \".nii.gz\")\n",
    "#     label_img = sitk.ReadImage(label_path)\n",
    "#     label = sitk.GetArrayFromImage(label_img)\n",
    "#\n",
    "#     tall = label.shape[0]\n",
    "#     label_slices = np.where(label.any(axis=(1,2)))[0]\n",
    "#     start = label_slices.min()\n",
    "#     end = label_slices.max()\n",
    "#     pad = tall // 10\n",
    "#\n",
    "#     start = int(max(0, start - pad))\n",
    "#     end = int(min(tall, end + pad))\n",
    "#\n",
    "#     roi_size = list(ct_img.GetSize())\n",
    "#     roi_size[2] = end - start\n",
    "#     roi_index = [0, 0, start]\n",
    "#     cropped_ct = sitk.RegionOfInterest(ct_img, roi_size, roi_index)\n",
    "#     cropped_label = sitk.RegionOfInterest(label_img, roi_size, roi_index)\n",
    "#\n",
    "#     # write cropped volumes\n",
    "#     sitk.WriteImage(cropped_ct, ct_path)\n",
    "#     sitk.WriteImage(cropped_label, label_path)"
   ],
   "id": "bb6397099604915c",
   "outputs": [],
   "execution_count": null
  },
  {
   "metadata": {},
   "cell_type": "markdown",
   "source": [
    "## Run CT-FM totalsegmentator model\n",
    "get segmentation mask as extra channel"
   ],
   "id": "1a2b591cccfc3f12"
  },
  {
   "metadata": {},
   "cell_type": "code",
   "source": [
    "# failed to create segmentation masks from CT-FM (memory issue maybe)\n",
    "failed = ['AutoPET-Lymphoma-B_PETCT_987c8a1160_CT_0000.nii.gz', 'AutoPET-Melanoma-B_PETCT_32aa845af1_CT_0000.nii.gz', 'AutoPET-Melanoma-B_PETCT_b510436d83_CT_0000.nii.gz', 'AutoPET-Melanoma-B_PETCT_6efefcb92a_CT_0000.nii.gz', 'AutoPET-Melanoma-B_PETCT_8e02f36295_CT_0000.nii.gz', 'AutoPET-Melanoma-B_PETCT_7ce196485f_CT_0000.nii.gz', 'AutoPET-Melanoma-B_PETCT_1b199d094d_CT_0000.nii.gz']\n",
    "\n",
    "# create empty 2nd channel for CTs that failed to have seg masks\n",
    "for f in tqdm(failed):\n",
    "    ct_path = train_images / f\n",
    "    ct_img = sitk.ReadImage(ct_path)\n",
    "\n",
    "    ct = sitk.GetArrayFromImage(ct_img)\n",
    "    blank_img = sitk.GetImageFromArray(ct * 0)\n",
    "\n",
    "    sitk.WriteImage(blank_img, train_images / f.replace(\"_0000.nii.gz\", \"_0001.nii.gz\"))\n",
    "    print(f)"
   ],
   "id": "b4fc8a2e07f56842",
   "outputs": [],
   "execution_count": null
  },
  {
   "metadata": {},
   "cell_type": "code",
   "source": [
    "# Running using subprocess, prevents memory leak issue that happens with loop below\n",
    "import subprocess\n",
    "\n",
    "for ct_name in tqdm(train_names):\n",
    "    if ct_name in failed:\n",
    "        continue\n",
    "    if os.path.exists(train_images / ct_name.replace(\"_0000.nii.gz\", \"_0001.nii.gz\")):\n",
    "        print(\"======== already processed\", ct_name)\n",
    "        continue\n",
    "    cmd = [\"python\", \"run_inference_on_one_img.py\", f\"{train_images}\", f\"{ct_name}\"]\n",
    "    print(\">>>>>>>>\", \" \".join(cmd))\n",
    "    out = subprocess.run(cmd, capture_output=True)\n",
    "    if out.returncode:\n",
    "        failed.append(ct_name)\n",
    "        print(\"++++++++ Failed\", out.returncode, ct_name)"
   ],
   "id": "6a8aee32754c2789",
   "outputs": [],
   "execution_count": null
  },
  {
   "metadata": {},
   "cell_type": "code",
   "source": [
    "# Possible memory leak issue with SlidingWindowInferer running in a loop\n",
    "\n",
    "model_name = \"project-lighter/whole_body_segmentation\"\n",
    "device = \"cuda\"\n",
    "model = SegResNet.from_pretrained(model_name).to(device)\n",
    "\n",
    "for ct_name in tqdm(train_names[9:]):\n",
    "    ct_path = train_images / ct_name\n",
    "    ct_img = sitk.ReadImage(ct_path)\n",
    "\n",
    "    print(\"Running inference...\")\n",
    "    with torch.no_grad():\n",
    "        out = inference(model, ct_path)\n",
    "    out = out.squeeze().permute([2,1,0])  # same shape as ct\n",
    "    out = out / 117  # normalize to 0-1\n",
    "\n",
    "    mask = sitk.GetImageFromArray(out.numpy())\n",
    "    mask.CopyInformation(ct_img)\n",
    "\n",
    "    mask_path = train_images / ct_name.replace(\"_0000.nii.gz\", \"_0001.nii.gz\")\n",
    "    sitk.WriteImage(mask, mask_path)\n",
    "    print(\"Saved:\", mask_path)"
   ],
   "id": "86dd5f218747d41a",
   "outputs": [],
   "execution_count": null
  },
  {
   "metadata": {},
   "cell_type": "code",
   "source": [
    "# load scan to visualize with masks\n",
    "ct_img = LoadImage()(ct_path)\n",
    "plt.imshow(ct_img[:,:,55]); plt.show()"
   ],
   "id": "e1bd46eb20917c14",
   "outputs": [],
   "execution_count": null
  },
  {
   "metadata": {},
   "cell_type": "code",
   "source": "plt.imshow(out[:,:,55]); plt.show()",
   "id": "3e5ce4e8fb4d2bd5",
   "outputs": [],
   "execution_count": null
  },
  {
   "metadata": {},
   "cell_type": "code",
   "source": [
    "import random\n",
    "import SimpleITK as sitk\n",
    "\n",
    "# load data from 3D dataset for nnUNet\n",
    "\n",
    "\n",
    "uls_img = [x for x in os.listdir(train_images) if x.startswith(\"ULS\")]\n",
    "ap_img = [x for x in os.listdir(train_images) if x.startswith(\"AutoPET\")]\n",
    "f = uls_img[0]\n",
    "print(f)\n",
    "\n",
    "# Load data\n",
    "ct_path = train_images / f\n",
    "seg_path = train_labels / f.replace(\"_0000.nii.gz\", \".nii.gz\")\n",
    "# seg_data = sitk.GetArrayFromImage(sitk.ReadImage(seg_path))\n",
    "# ct_data = sitk.GetArrayFromImage(sitk.ReadImage(ct_path))"
   ],
   "id": "3b01a5f2f73238ae",
   "outputs": [],
   "execution_count": null
  },
  {
   "metadata": {},
   "cell_type": "code",
   "source": "",
   "id": "c183b3a0d31b0437",
   "outputs": [],
   "execution_count": null
  },
  {
   "metadata": {},
   "cell_type": "code",
   "source": [
    "# visualize\n",
    "res = result.squeeze()\n",
    "for i in range(0, res.shape[-1], 2):\n",
    "    seg_mask = res[..., i].rot90()\n",
    "    if (seg_mask > 0).sum() > 0:\n",
    "        ct_slice = ct_img[:, :, i].rot90()\n",
    "        fig, axes = plt.subplots(1, 2, figsize=(6, 3))\n",
    "        axes[0].imshow(ct_slice, cmap=\"gray\")\n",
    "        axes[1].imshow(seg_mask, vmin=0, vmax=117, cmap=\"gist_stern\")\n",
    "        plt.show()\n",
    "        break"
   ],
   "id": "2243aa37b5a03408",
   "outputs": [],
   "execution_count": null
  }
 ],
 "metadata": {
  "kernelspec": {
   "display_name": "Python 3",
   "language": "python",
   "name": "python3"
  },
  "language_info": {
   "codemirror_mode": {
    "name": "ipython",
    "version": 2
   },
   "file_extension": ".py",
   "mimetype": "text/x-python",
   "name": "python",
   "nbconvert_exporter": "python",
   "pygments_lexer": "ipython2",
   "version": "2.7.6"
  }
 },
 "nbformat": 4,
 "nbformat_minor": 5
}
