{
 "cells": [
  {
   "metadata": {},
   "cell_type": "markdown",
   "source": "# Visualize segmentation results",
   "id": "21ae70d67d065443"
  },
  {
   "metadata": {},
   "cell_type": "code",
   "source": [
    "%load_ext autoreload\n",
    "%autoreload 2"
   ],
   "id": "157c802487e9f72b",
   "outputs": [],
   "execution_count": null
  },
  {
   "metadata": {},
   "cell_type": "code",
   "source": [
    "import os\n",
    "from pathlib import Path\n",
    "\n",
    "res_folder = Path(\"/media/liushifeng/KINGSTON/nnUNet_results/\")\n",
    "val_folder = Path(\"/media/liushifeng/KINGSTON/nnUNet_results/Dataset002_3dlesion_ctfm_seg/nnUNetTrainer__nnUNetPlans__3d_fullres/fold_0/validation/\")\n",
    "images_folder = Path(\"/media/liushifeng/KINGSTON/nnUNet_raw/Dataset002_3dlesion_ctfm_seg/imagesTr\")\n",
    "labels_folder = Path(\"/media/liushifeng/KINGSTON/nnUNet_raw/Dataset002_3dlesion_ctfm_seg/labelsTr\")\n",
    "\n",
    "val_names = os.listdir(val_folder)\n",
    "val_names = [n for n in val_names if n.endswith(\".nii.gz\")]\n",
    "uls_val_names = [n for n in val_names if n.lower().startswith(\"uls\")]\n",
    "len(val_names), len(uls_val_names)"
   ],
   "id": "396988191e28a63a",
   "outputs": [],
   "execution_count": null
  },
  {
   "metadata": {},
   "cell_type": "code",
   "source": [
    "# get a filename from ULS validation images\n",
    "f = uls_val_names[3]\n",
    "name = f.replace(\"_0000.nii.gz\", \".nii.gz\")"
   ],
   "id": "99876cd725795c26",
   "outputs": [],
   "execution_count": null
  },
  {
   "metadata": {},
   "cell_type": "code",
   "source": [
    "from visualize import load_and_plot\n",
    "load_and_plot(name, images_folder, labels_folder, res_folder)"
   ],
   "id": "eac3d5580b340aa6",
   "outputs": [],
   "execution_count": null
  }
 ],
 "metadata": {
  "kernelspec": {
   "display_name": "Python 3",
   "language": "python",
   "name": "python3"
  },
  "language_info": {
   "codemirror_mode": {
    "name": "ipython",
    "version": 2
   },
   "file_extension": ".py",
   "mimetype": "text/x-python",
   "name": "python",
   "nbconvert_exporter": "python",
   "pygments_lexer": "ipython2",
   "version": "2.7.6"
  }
 },
 "nbformat": 4,
 "nbformat_minor": 5
}
