{
 "cells": [
  {
   "metadata": {},
   "cell_type": "markdown",
   "source": "# Visualize segmentation results",
   "id": "21ae70d67d065443"
  },
  {
   "metadata": {},
   "cell_type": "code",
   "source": [
    "%load_ext autoreload\n",
    "%autoreload 2"
   ],
   "id": "157c802487e9f72b",
   "outputs": [],
   "execution_count": null
  },
  {
   "metadata": {},
   "cell_type": "code",
   "source": [
    "import os\n",
    "from pathlib import Path\n",
    "from visualize import load_and_plot\n",
    "import matplotlib.pyplot as plt\n",
    "from tqdm import tqdm\n",
    "\n",
    "\n",
    "res_folder = Path(\"/media/liushifeng/KINGSTON/nnUNet_results/\")\n",
    "val_folder = Path(\"/media/liushifeng/KINGSTON/nnUNet_results/Dataset002_3dlesion_ctfm_seg/nnUNetTrainer__nnUNetPlans__3d_fullres/fold_0/validation/\")\n",
    "images_folder = Path(\"/media/liushifeng/KINGSTON/nnUNet_raw/Dataset002_3dlesion_ctfm_seg/imagesTr\")\n",
    "labels_folder = Path(\"/media/liushifeng/KINGSTON/nnUNet_raw/Dataset002_3dlesion_ctfm_seg/labelsTr\")\n",
    "\n",
    "val_names = os.listdir(val_folder)\n",
    "val_names = [n for n in val_names if n.endswith(\".nii.gz\")]\n",
    "uls_val_names = [n for n in val_names if n.lower().startswith(\"uls\")]\n",
    "len(val_names), len(uls_val_names)"
   ],
   "id": "396988191e28a63a",
   "outputs": [],
   "execution_count": null
  },
  {
   "metadata": {},
   "cell_type": "code",
   "source": [
    "for name in tqdm(uls_val_names[92:]):\n",
    "    fig = load_and_plot(name, images_folder, labels_folder, res_folder)\n",
    "    fig.savefig(f'/media/liushifeng/KINGSTON/3d_val_visualization/fold_0/{name}.jpg', bbox_inches='tight', dpi=240)\n",
    "    print(\"saved output for:\", name)\n",
    "    plt.close()"
   ],
   "id": "eac3d5580b340aa6",
   "outputs": [],
   "execution_count": null
  },
  {
   "metadata": {},
   "cell_type": "code",
   "source": "",
   "id": "4c59d67f528a22bf",
   "outputs": [],
   "execution_count": null
  }
 ],
 "metadata": {
  "kernelspec": {
   "display_name": "Python 3",
   "language": "python",
   "name": "python3"
  },
  "language_info": {
   "codemirror_mode": {
    "name": "ipython",
    "version": 2
   },
   "file_extension": ".py",
   "mimetype": "text/x-python",
   "name": "python",
   "nbconvert_exporter": "python",
   "pygments_lexer": "ipython2",
   "version": "2.7.6"
  }
 },
 "nbformat": 4,
 "nbformat_minor": 5
}
