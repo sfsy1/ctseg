{
 "cells": [
  {
   "metadata": {},
   "cell_type": "markdown",
   "source": [
    "# Create extra weak labels input channel\n",
    "Partial labels like boxes and masks are used as extra input channel for inputs to nnUNetv2.\n",
    "* 2D bbox of key slice\n",
    "* 3D bbox\n",
    "* 2 orthogonal 2D bboxes of key slices\n",
    "* 2D mask of key slice\n",
    "* 2 orthogonal 2D masks of key slices"
   ],
   "id": "a303ef266f799496"
  },
  {
   "metadata": {},
   "cell_type": "code",
   "source": [
    "%load_ext autoreload\n",
    "%autoreload 2"
   ],
   "id": "4c239b560d6384f7",
   "outputs": [],
   "execution_count": null
  },
  {
   "metadata": {},
   "cell_type": "code",
   "source": [
    "import os\n",
    "from pathlib import Path\n",
    "\n",
    "import SimpleITK as sitk\n",
    "import matplotlib.pyplot as plt\n",
    "import numpy as np\n",
    "from tqdm import tqdm"
   ],
   "id": "9252cd926767b19c",
   "outputs": [],
   "execution_count": null
  },
  {
   "metadata": {},
   "cell_type": "code",
   "source": [
    "# import cc3d\n",
    "# labels, n_components = cc3d.connected_components(seg_data, return_N=True)"
   ],
   "id": "a88a393819e3930b",
   "outputs": [],
   "execution_count": null
  },
  {
   "metadata": {},
   "cell_type": "markdown",
   "source": "## 2D bbox of key slice\n",
   "id": "b01940942b62abe1"
  },
  {
   "metadata": {},
   "cell_type": "code",
   "source": [
    "data_folder = Path(\"/media/liushifeng/KINGSTON/nnUNet_raw/Dataset001_3dlesion/\")\n",
    "train_images = data_folder / \"imagesTr\"\n",
    "train_labels = data_folder / \"labelsTr\"\n",
    "\n",
    "train_names = os.listdir(train_images)\n",
    "train_names = [n for n in train_names if n.endswith(\"_0000.nii.gz\")]"
   ],
   "id": "d0de71a142e01eb9",
   "outputs": [],
   "execution_count": null
  },
  {
   "metadata": {},
   "cell_type": "code",
   "source": [
    "def channel_with_box_on_key_slice(label):\n",
    "    key_index = label.sum(axis=(1,2)).argmax()\n",
    "    key_slice = label[key_index]\n",
    "\n",
    "    y_coords = np.where(key_slice.any(axis=1))[0]\n",
    "    x_coords = np.where(key_slice.any(axis=0))[0]\n",
    "\n",
    "    y_max, y_min = y_coords.max(), y_coords.min()\n",
    "    x_max, x_min = x_coords.max(), x_coords.min()\n",
    "\n",
    "    mask = np.zeros(label.shape)\n",
    "    mask[key_index, y_min:y_max+1, x_min:x_max+1] = 1\n",
    "    return mask"
   ],
   "id": "1f02e3b6fead23ba",
   "outputs": [],
   "execution_count": null
  },
  {
   "metadata": {},
   "cell_type": "code",
   "source": [
    "channel_n = 2\n",
    "\n",
    "for f in tqdm(train_names):\n",
    "    ct_path = train_images / f\n",
    "    ct_img = sitk.ReadImage(ct_path)\n",
    "\n",
    "    label_path = train_labels / f.replace(\"_0000.nii.gz\", \".nii.gz\")\n",
    "    label_img = sitk.ReadImage(label_path)\n",
    "    label = sitk.GetArrayFromImage(label_img)\n",
    "\n",
    "    key_slice_box = channel_with_box_on_key_slice(label)\n",
    "    new_img = sitk.GetImageFromArray(key_slice_box)\n",
    "\n",
    "    # set original metadata\n",
    "    new_img.SetOrigin(ct_img.GetOrigin())\n",
    "    new_img.SetSpacing(ct_img.GetSpacing())\n",
    "    new_img.SetDirection(ct_img.GetDirection())\n",
    "\n",
    "    output_path = Path(\"/media/liushifeng/KINGSTON/nnUNet_raw/Dataset003_3dlesion_2dkeybox/imagesTr/\")\n",
    "    new_path = output_path / f.replace(\"_0000.nii.gz\", f\"_000{channel_n}.nii.gz\")\n",
    "    print(new_path)\n",
    "\n",
    "    # sitk.WriteImage(new_img, new_path)"
   ],
   "id": "bb6397099604915c",
   "outputs": [],
   "execution_count": null
  },
  {
   "metadata": {},
   "cell_type": "markdown",
   "source": "## 2D bboxes of horizontal and sagittal key slices\n",
   "id": "96deb4bca243313b"
  },
  {
   "metadata": {},
   "cell_type": "code",
   "source": [
    "def channel_with_box_on_key_sagittal_slice(label):\n",
    "    \"\"\"Sagittal slice (dim 2)\"\"\"\n",
    "    key_index = label.sum(axis=(0,1)).argmax()\n",
    "    key_slice = label[:,:,key_index]\n",
    "\n",
    "    y_coords = np.where(key_slice.any(axis=1))[0]\n",
    "    x_coords = np.where(key_slice.any(axis=0))[0]\n",
    "\n",
    "    y_max, y_min = y_coords.max(), y_coords.min()\n",
    "    x_max, x_min = x_coords.max(), x_coords.min()\n",
    "\n",
    "    mask = np.zeros(label.shape)\n",
    "    mask[y_min:y_max+1, x_min:x_max+1, key_index] = 1\n",
    "    return mask"
   ],
   "id": "edddc06750f4150c",
   "outputs": [],
   "execution_count": null
  },
  {
   "metadata": {},
   "cell_type": "code",
   "source": [
    "data_folder = Path(\"/media/liushifeng/KINGSTON/nnUNet_raw/Dataset005_3dlesion_2dkeyboxes_orthogonal/\")\n",
    "train_images = data_folder / \"imagesTr\"\n",
    "train_labels = data_folder / \"labelsTr\"\n",
    "train_names = os.listdir(train_images)\n",
    "train_names = [n for n in train_names if n.endswith(\"_0000.nii.gz\")]"
   ],
   "id": "1ac5a12199f1b4c1",
   "outputs": [],
   "execution_count": null
  },
  {
   "metadata": {},
   "cell_type": "code",
   "source": [
    "channel_n = 2\n",
    "\n",
    "for f in tqdm(train_names):\n",
    "    ct_path = train_images / f\n",
    "    ct_img = sitk.ReadImage(ct_path)\n",
    "\n",
    "    label_path = train_labels / f.replace(\"_0000.nii.gz\", \".nii.gz\")\n",
    "    label_img = sitk.ReadImage(label_path)\n",
    "    label = sitk.GetArrayFromImage(label_img)\n",
    "\n",
    "    # get horizontal and vertical boxes and combine them\n",
    "    horizontal_slice_box = channel_with_box_on_key_slice(label)\n",
    "    sagittal_slice_box = channel_with_box_on_key_sagittal_slice(label)\n",
    "    boxes_mask = horizontal_slice_box + sagittal_slice_box\n",
    "    boxes_mask[boxes_mask > 1] = 1\n",
    "    new_img = sitk.GetImageFromArray(boxes_mask)\n",
    "\n",
    "    # set original metadata\n",
    "    new_img.SetOrigin(ct_img.GetOrigin())\n",
    "    new_img.SetSpacing(ct_img.GetSpacing())\n",
    "    new_img.SetDirection(ct_img.GetDirection())\n",
    "\n",
    "    new_path = train_images / f.replace(\"_0000.nii.gz\", f\"_000{channel_n}.nii.gz\")\n",
    "    # print(new_path)\n",
    "    sitk.WriteImage(new_img, new_path)"
   ],
   "id": "98ba2c642d1824a5",
   "outputs": [],
   "execution_count": null
  },
  {
   "metadata": {},
   "cell_type": "code",
   "source": [
    "# plt.imshow(label.sum(axis=(2)))\n",
    "# plt.imshow(key_slice_box.sum(axis=(2)))"
   ],
   "id": "2c31a991a6a055aa",
   "outputs": [],
   "execution_count": null
  },
  {
   "metadata": {},
   "cell_type": "markdown",
   "source": "## 2D mask of key slice\n",
   "id": "c154dc934717ccd0"
  },
  {
   "metadata": {},
   "cell_type": "code",
   "source": [
    "data_folder = Path(\"/media/liushifeng/KINGSTON/nnUNet_raw/Dataset006_3dlesion_2dkeymask\")\n",
    "train_images = data_folder / \"imagesTr\"\n",
    "train_labels = data_folder / \"labelsTr\"\n",
    "\n",
    "train_names = os.listdir(train_images)\n",
    "train_names = [n for n in train_names if n.endswith(\"_0000.nii.gz\")]\n",
    "len(train_names)"
   ],
   "id": "4c0cdedffdca366f",
   "outputs": [],
   "execution_count": null
  },
  {
   "metadata": {},
   "cell_type": "code",
   "source": [
    "def channel_with_mask_on_key_slice(label):\n",
    "    key_index = label.sum(axis=(1,2)).argmax()\n",
    "    key_slice = label[key_index]\n",
    "\n",
    "    mask = np.zeros(label.shape)\n",
    "    mask[key_index] = key_slice\n",
    "    return mask"
   ],
   "id": "34a8f74a4a93fe40",
   "outputs": [],
   "execution_count": null
  },
  {
   "metadata": {},
   "cell_type": "code",
   "source": [
    "channel_n = 2\n",
    "\n",
    "for f in tqdm(train_names):\n",
    "    ct_path = train_images / f\n",
    "    ct_img = sitk.ReadImage(ct_path)\n",
    "\n",
    "    label_path = train_labels / f.replace(\"_0000.nii.gz\", \".nii.gz\")\n",
    "    label_img = sitk.ReadImage(label_path)\n",
    "    label = sitk.GetArrayFromImage(label_img)\n",
    "\n",
    "    key_slice_mask = channel_with_mask_on_key_slice(label)\n",
    "    new_img = sitk.GetImageFromArray(key_slice_mask)\n",
    "\n",
    "    # set original metadata\n",
    "    new_img.SetOrigin(ct_img.GetOrigin())\n",
    "    new_img.SetSpacing(ct_img.GetSpacing())\n",
    "    new_img.SetDirection(ct_img.GetDirection())\n",
    "\n",
    "    output_path = Path(\"/media/liushifeng/KINGSTON/nnUNet_raw/Dataset006_3dlesion_2dkeymask/imagesTr\")\n",
    "    new_path = output_path / f.replace(\"_0000.nii.gz\", f\"_000{channel_n}.nii.gz\")\n",
    "    # print(new_path)\n",
    "\n",
    "    sitk.WriteImage(new_img, new_path)"
   ],
   "id": "cfac40ec42b2634c",
   "outputs": [],
   "execution_count": null
  },
  {
   "metadata": {},
   "cell_type": "markdown",
   "source": "## 2D masks of key horizontal and sagittal slice\n",
   "id": "ae91265afe360a6a"
  },
  {
   "metadata": {},
   "cell_type": "code",
   "source": [
    "data_folder = Path(\"/media/liushifeng/KINGSTON/nnUNet_raw/Dataset007_3dlesion_2dkeymasks_orthogonal\")\n",
    "train_images = data_folder / \"imagesTr\"\n",
    "train_labels = data_folder / \"labelsTr\"\n",
    "\n",
    "train_names = os.listdir(train_images)\n",
    "train_names = [n for n in train_names if n.endswith(\"_0000.nii.gz\")]\n",
    "len(train_names)"
   ],
   "id": "ab9e679165178b0a",
   "outputs": [],
   "execution_count": null
  },
  {
   "metadata": {},
   "cell_type": "code",
   "source": [
    "## 2D masks of horizontal and sagittal key slices\n",
    "def channel_with_masks_on_key_sagittal_slice(label):\n",
    "    \"\"\"Sagittal slice (dim 2)\"\"\"\n",
    "    key_index = label.sum(axis=(0, 1)).argmax()\n",
    "    key_slice = label[:, :, key_index]\n",
    "\n",
    "    mask = np.zeros(label.shape)\n",
    "    mask[:,:,key_index] = key_slice\n",
    "    return mask"
   ],
   "id": "32ca02ee64f97b58",
   "outputs": [],
   "execution_count": null
  },
  {
   "metadata": {},
   "cell_type": "code",
   "source": [
    "channel_n = 2\n",
    "\n",
    "for f in tqdm(train_names):\n",
    "    ct_path = train_images / f\n",
    "    ct_img = sitk.ReadImage(ct_path)\n",
    "\n",
    "    label_path = train_labels / f.replace(\"_0000.nii.gz\", \".nii.gz\")\n",
    "    label_img = sitk.ReadImage(label_path)\n",
    "    label = sitk.GetArrayFromImage(label_img)\n",
    "\n",
    "    # get horizontal and vertical boxes and combine them\n",
    "    horizontal_slice_mask = channel_with_mask_on_key_slice(label)\n",
    "    sagittal_slice_mask = channel_with_masks_on_key_sagittal_slice(label)\n",
    "    mask = horizontal_slice_mask + sagittal_slice_mask\n",
    "    mask[mask > 1] = 1\n",
    "    new_img = sitk.GetImageFromArray(mask)\n",
    "\n",
    "    # set original metadata\n",
    "    new_img.SetOrigin(ct_img.GetOrigin())\n",
    "    new_img.SetSpacing(ct_img.GetSpacing())\n",
    "    new_img.SetDirection(ct_img.GetDirection())\n",
    "\n",
    "    output_path = data_folder / \"imagesTr\"\n",
    "    new_path = output_path / f.replace(\"_0000.nii.gz\", f\"_000{channel_n}.nii.gz\")\n",
    "    # print(new_path)\n",
    "\n",
    "    sitk.WriteImage(new_img, new_path)"
   ],
   "id": "9217a398789992f3",
   "outputs": [],
   "execution_count": null
  },
  {
   "metadata": {},
   "cell_type": "markdown",
   "source": "## Visualization Code",
   "id": "966693e72569f155"
  },
  {
   "metadata": {},
   "cell_type": "code",
   "source": [
    "res = result.squeeze()\n",
    "for i in range(0, res.shape[-1], 2):\n",
    "    seg_mask = res[..., i].rot90()\n",
    "    if (seg_mask > 0).sum() > 0:\n",
    "        ct_slice = ct_img[:, :, i].rot90()\n",
    "        fig, axes = plt.subplots(1, 2, figsize=(6, 3))\n",
    "        axes[0].imshow(ct_slice, cmap=\"gray\")\n",
    "        axes[1].imshow(seg_mask, vmin=0, vmax=117, cmap=\"gist_stern\")\n",
    "        plt.show()\n",
    "        break"
   ],
   "id": "2243aa37b5a03408",
   "outputs": [],
   "execution_count": null
  }
 ],
 "metadata": {
  "kernelspec": {
   "display_name": "Python 3",
   "language": "python",
   "name": "python3"
  },
  "language_info": {
   "codemirror_mode": {
    "name": "ipython",
    "version": 2
   },
   "file_extension": ".py",
   "mimetype": "text/x-python",
   "name": "python",
   "nbconvert_exporter": "python",
   "pygments_lexer": "ipython2",
   "version": "2.7.6"
  }
 },
 "nbformat": 4,
 "nbformat_minor": 5
}
