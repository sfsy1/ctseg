{
 "cells": [
  {
   "metadata": {},
   "cell_type": "markdown",
   "source": "# Metrics calculation",
   "id": "b9f783372cff229a"
  },
  {
   "metadata": {},
   "cell_type": "code",
   "source": [
    "%load_ext autoreload\n",
    "%autoreload 2"
   ],
   "id": "cecfaa2425523dc7",
   "outputs": [],
   "execution_count": null
  },
  {
   "metadata": {},
   "cell_type": "code",
   "source": [
    "import cc3d\n",
    "import os\n",
    "from pathlib import Path\n",
    "from visualize import load_data, DATASETS\n",
    "import matplotlib.pyplot as plt\n",
    "from tqdm import tqdm\n",
    "import numpy as np\n",
    "import pandas as pd\n",
    "\n",
    "\n",
    "res_folder = Path(\"/media/liushifeng/KINGSTON/nnUNet_results/\")\n",
    "val_folder = Path(\"/media/liushifeng/KINGSTON/nnUNet_results/Dataset002_3dlesion_ctfm_seg/nnUNetTrainer__nnUNetPlans__3d_fullres/fold_0/validation/\")\n",
    "images_folder = Path(\"/media/liushifeng/KINGSTON/nnUNet_raw/Dataset002_3dlesion_ctfm_seg/imagesTr\")\n",
    "labels_folder = Path(\"/media/liushifeng/KINGSTON/nnUNet_raw/Dataset002_3dlesion_ctfm_seg/labelsTr\")\n",
    "\n",
    "val_names = os.listdir(val_folder)\n",
    "val_names = [n for n in val_names if n.endswith(\".nii.gz\")]\n",
    "uls_val_names = [n for n in val_names if n.lower().startswith(\"uls\")]\n",
    "len(val_names), len(uls_val_names)"
   ],
   "id": "653e944d5a2e185f",
   "outputs": [],
   "execution_count": null
  },
  {
   "metadata": {},
   "cell_type": "code",
   "source": [
    "# 1: \"ct\",\n",
    "# 2: \"ct+seg\",\n",
    "# 3: \"ct+seg+box\",\n",
    "# 5: \"ct+seg+2box\",\n",
    "# 6: \"ct+seg+mask\",\n",
    "# 7: \"ct+seg+2mask\","
   ],
   "id": "6678ed79fd6acd7",
   "outputs": [],
   "execution_count": null
  },
  {
   "metadata": {},
   "cell_type": "markdown",
   "source": "### Voxel-level calculations",
   "id": "8105f1d981e9ea8a"
  },
  {
   "metadata": {},
   "cell_type": "code",
   "source": [
    "rows = []\n",
    "for name in tqdm(uls_val_names):\n",
    "\n",
    "    # name = uls_val_names[0]\n",
    "    _, label, preds = load_data(name, images_folder, labels_folder, res_folder, load_input=False)\n",
    "    for pred, (dataset_id, dataset_name) in zip(preds, DATASETS.items()):\n",
    "        tp = (np.logical_and(pred, label)).sum()\n",
    "        fp = np.equal(pred - label, 1).sum()\n",
    "        fn = np.equal(label - pred, 1).sum()\n",
    "        if tp + fp == 0:\n",
    "            precision = 0\n",
    "        else:\n",
    "            precision = tp / (tp + fp)\n",
    "        recall = tp / (tp + fn)\n",
    "        rows.append({\n",
    "            \"lesion_name\": name,\n",
    "            \"dataset_id\": dataset_id,\n",
    "            \"dataset_name\": dataset_name,\n",
    "            \"p\": round(precision, 3),\n",
    "            \"r\": round(recall, 3),\n",
    "            \"tp\": tp,\n",
    "            \"fp\": fp,\n",
    "            \"fn\": fn,\n",
    "            \"volume\": label.sum(),\n",
    "            \"pred_volume\": pred.sum(),\n",
    "        })\n",
    "\n",
    "df_vox = pd.DataFrame(rows)\n",
    "df_vox"
   ],
   "id": "70c1390e9957e658",
   "outputs": [],
   "execution_count": null
  },
  {
   "metadata": {},
   "cell_type": "code",
   "source": "df_vox.to_csv(\"metrics/fold_0_metrics_voxel.csv\", index=False)",
   "id": "bcc96f5309b8e32e",
   "outputs": [],
   "execution_count": null
  },
  {
   "metadata": {},
   "cell_type": "markdown",
   "source": "### Lesion-level metrics",
   "id": "757cddfc8324aed0"
  },
  {
   "metadata": {},
   "cell_type": "code",
   "source": [
    "rows = []\n",
    "for name in tqdm(uls_val_names):\n",
    "\n",
    "    _, label, preds = load_data(name, images_folder, labels_folder, res_folder, load_input=False)\n",
    "    lesion_labels, n = cc3d.connected_components(label, return_N=True)\n",
    "\n",
    "    for pred, (dataset_id, dataset_name) in zip(preds, DATASETS.items()):\n",
    "        _, pred_n = cc3d.connected_components(pred, return_N=True)\n",
    "        tp = fn = 0\n",
    "\n",
    "        # for every label lesion, check if detected (tp) or not (fn)\n",
    "        for i in range(n):\n",
    "            l = i + 1\n",
    "            lesion_mask = np.equal(lesion_labels, l).astype(int)\n",
    "            # tp if overlap by more than 1 pixel\n",
    "            if (np.logical_and(pred, lesion_mask)).sum() > 1:\n",
    "                tp += 1\n",
    "            else:\n",
    "                fn += 1\n",
    "\n",
    "        fp = pred_n - tp\n",
    "        if tp + fp == 0:\n",
    "            precision = 0\n",
    "        else:\n",
    "            precision = tp / (tp + fp)\n",
    "        recall = tp / (tp + fn)\n",
    "\n",
    "        rows.append({\n",
    "            \"lesion_name\": name,\n",
    "            \"dataset_id\": dataset_id,\n",
    "            \"dataset_name\": dataset_name,\n",
    "            \"p\": round(precision, 3),\n",
    "            \"r\": round(recall, 3),\n",
    "            \"tp\": tp,\n",
    "            \"fp\": fp,\n",
    "            \"fn\": fn,\n",
    "            \"volume\": label.sum(),\n",
    "            \"pred_volume\": pred.sum(),\n",
    "        })\n",
    "\n",
    "df_les = pd.DataFrame(rows)\n",
    "df_les"
   ],
   "id": "f12c71647f24fd63",
   "outputs": [],
   "execution_count": null
  },
  {
   "metadata": {},
   "cell_type": "code",
   "source": "df_les.to_csv(\"metrics/fold_0_metrics_lesion.csv\", index=False)",
   "id": "101050ed5fdec208",
   "outputs": [],
   "execution_count": null
  },
  {
   "metadata": {},
   "cell_type": "markdown",
   "source": "## Metrics aggregation &  visualization",
   "id": "fa377e9a442205b"
  },
  {
   "metadata": {},
   "cell_type": "code",
   "source": [
    "import pandas as pd\n",
    "import seaborn as sns"
   ],
   "id": "887137dc60e851f9",
   "outputs": [],
   "execution_count": null
  },
  {
   "metadata": {},
   "cell_type": "code",
   "source": [
    "dice = {\n",
    "\"ct\": 0.2609,\n",
    "\"ct+seg\": 0.3806,\n",
    "\"ct+seg+box\": 0.5843,\n",
    "\"ct+seg+2box\": 0.7687,\n",
    "\"ct+seg+mask\": 0.6108,\n",
    "\"ct+seg+2mask\": 0.8123\n",
    "}\n",
    "df_dice = pd.DataFrame(dice, index=[0]).T\n",
    "df_dice.columns = [\"dice\"]\n",
    "df_dice.reset_index(names=\"dataset_name\", inplace=True)"
   ],
   "id": "d2de56bd1b722c52",
   "outputs": [],
   "execution_count": null
  },
  {
   "metadata": {},
   "cell_type": "code",
   "source": [
    "df_dice['metric'] = \"dice\"\n",
    "df_dice['value'] = df_dice['dice']\n",
    "g = sns.catplot(\n",
    "    data=df_dice,\n",
    "    y=\"dataset_name\",\n",
    "    x=\"value\",\n",
    "    col=\"metric\",\n",
    "    hue=\"dataset_name\",\n",
    "    errorbar=None,\n",
    "    kind=\"bar\",\n",
    "    height=3,\n",
    "    aspect=1.25,\n",
    "    width=0.5,\n",
    "    sharex=False,\n",
    "    palette=\"deep\",\n",
    ")\n",
    "g.set_axis_labels(\"\", \"inputs\")\n",
    "g.set_titles(\"metric=dice\")\n",
    "g.savefig(\"metrics/dice_plot.png\")"
   ],
   "id": "fb78978b10ac2486",
   "outputs": [],
   "execution_count": null
  },
  {
   "metadata": {},
   "cell_type": "code",
   "source": [
    "# df = pd.read_csv(\"metrics/fold_0_metrics_voxel.csv\")\n",
    "df = pd.read_csv(\"metrics/fold_0_metrics_lesion.csv\")"
   ],
   "id": "44f1ea09e6204d41",
   "outputs": [],
   "execution_count": null
  },
  {
   "metadata": {},
   "cell_type": "code",
   "source": "(df.groupby(\"dataset_name\")['abs_perc_vol_error'].mean() * 100).round(2)",
   "id": "d5f5564f6649bbc",
   "outputs": [],
   "execution_count": null
  },
  {
   "metadata": {},
   "cell_type": "code",
   "source": [
    "df['abs_perc_vol_error'] = (df['pred_volume'] - df['volume']).abs() / df['volume']\n",
    "df = df.rename(columns={\"p\": \"precision\", \"r\": \"recall\"})\n",
    "df_v = df.melt(id_vars=['lesion_name', 'dataset_name'],\n",
    "        value_vars=['precision', 'recall', 'abs_perc_vol_error'],\n",
    "        var_name='metric', value_name='value')"
   ],
   "id": "be5e6b40bd968619",
   "outputs": [],
   "execution_count": null
  },
  {
   "metadata": {},
   "cell_type": "code",
   "source": [
    "g = sns.catplot(\n",
    "    data=df_v,\n",
    "    y=\"dataset_name\",\n",
    "    x=\"value\",\n",
    "    col=\"metric\",\n",
    "    hue=\"dataset_name\",\n",
    "    errorbar=None,\n",
    "    kind=\"bar\",\n",
    "    height=3,\n",
    "    aspect=1.25,\n",
    "    width=0.5,\n",
    "    sharex=False,\n",
    "    palette=\"deep\",\n",
    ")\n",
    "# g.set_xticklabels(rotation=20)\n",
    "# g.axes[0][0].set(ylim=(-0.1, 1.1));\n",
    "g.set_axis_labels(\"\", \"inputs\");\n",
    "# g.set(ylim=(-0.1, 1.1))\n",
    "g.savefig(\"metrics/lesion_precision_recall_vol_plot.png\")"
   ],
   "id": "baf8f198cd803dff",
   "outputs": [],
   "execution_count": null
  }
 ],
 "metadata": {
  "kernelspec": {
   "display_name": "Python 3",
   "language": "python",
   "name": "python3"
  },
  "language_info": {
   "codemirror_mode": {
    "name": "ipython",
    "version": 2
   },
   "file_extension": ".py",
   "mimetype": "text/x-python",
   "name": "python",
   "nbconvert_exporter": "python",
   "pygments_lexer": "ipython2",
   "version": "2.7.6"
  }
 },
 "nbformat": 4,
 "nbformat_minor": 5
}
