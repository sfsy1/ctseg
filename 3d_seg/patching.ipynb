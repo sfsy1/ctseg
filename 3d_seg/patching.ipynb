{
 "cells": [
  {
   "metadata": {},
   "cell_type": "markdown",
   "source": [
    "# Splitting volumes into patches\n",
    "1. Centroid approach: patches centered around lesions\n",
    "2. Sliding window approach: all patches containing min number of lesion labels\n",
    "* create sliding windows patches\n",
    "  * keep the ones with lesion voxels\n",
    "* get xyz ranges of patches\n",
    "* use ranges to crop other channels\n",
    "* save patches\n",
    "* save ranges in filenames or in pickles to crop more channels in the future"
   ],
   "id": "98b2a37142e68fb3"
  },
  {
   "cell_type": "code",
   "id": "13f81a657d3eaee8",
   "metadata": {},
   "source": [
    "%load_ext autoreload\n",
    "%autoreload 2"
   ],
   "outputs": [],
   "execution_count": null
  },
  {
   "metadata": {
    "collapsed": true
   },
   "cell_type": "code",
   "source": [
    "import os\n",
    "from pathlib import Path\n",
    "\n",
    "import SimpleITK as sitk\n",
    "import cc3d\n",
    "import numpy as np\n",
    "import pandas as pd\n",
    "from tqdm import tqdm\n",
    "from patching import get_lesion_patch_simple, get_sliding_patches, visualize_patch_seg, useful_patch_indices\n",
    "\n",
    "data_folder = Path(\"/media/liushifeng/KINGSTON/nnUNet_raw/Dataset001_3dlesion\")\n",
    "train_images = data_folder / \"imagesTr\"\n",
    "train_labels = data_folder / \"labelsTr\""
   ],
   "id": "initial_id",
   "outputs": [],
   "execution_count": null
  },
  {
   "metadata": {},
   "cell_type": "markdown",
   "source": "### Create centroid patches",
   "id": "9c72f5b9978a2590"
  },
  {
   "metadata": {},
   "cell_type": "code",
   "source": [
    "import torch\n",
    "from process import preprocess, preprocess_seg, postprocess, postprocess_seg\n",
    "\n",
    "ct_cent_folder = Path(\"/media/liushifeng/KINGSTON/lesion3d/centroid/ct\")\n",
    "seg_cent_folder = Path(\"/media/liushifeng/KINGSTON/lesion3d/centroid/seg\")"
   ],
   "id": "4d30009dbe69a404",
   "outputs": [],
   "execution_count": null
  },
  {
   "metadata": {},
   "cell_type": "code",
   "source": [
    "patch_counts = {}\n",
    "for ct_filename in tqdm(os.listdir(train_images)):\n",
    "    ct_path = train_images / ct_filename\n",
    "    seg_path = train_labels / ct_filename.replace(\"_0000.nii.gz\", \".nii.gz\")\n",
    "\n",
    "    ct = preprocess(ct_path)\n",
    "    seg = preprocess_seg(seg_path)\n",
    "\n",
    "    labels, n_components = cc3d.connected_components(seg[0] > 0, return_N=True)\n",
    "\n",
    "    root_name = ct_filename.replace(\"_0000.nii.gz\", \".nii.gz\").split(\".\")[0]\n",
    "    patch_counts[root_name] = n_components\n",
    "    for c in range(n_components):\n",
    "        coords = np.argwhere(labels == (c + 1))\n",
    "        centroid = coords.float().mean(axis=1).to(int)\n",
    "\n",
    "        patch_dims = [64, 128, 128]\n",
    "        seg_patch = get_lesion_patch_simple(seg[0], centroid, patch_dims)\n",
    "        ct_patch = get_lesion_patch_simple(ct[0], centroid, patch_dims)\n",
    "\n",
    "        # print(ct_patch.shape, ct_patch.min().item(), ct_patch.max().item())\n",
    "        name = f\"{root_name}_patch{c}.pt\"\n",
    "        torch.save(torch.tensor(ct_patch).half(), ct_cent_folder / name)\n",
    "        torch.save(torch.tensor(seg_patch).half(), seg_cent_folder / name)"
   ],
   "id": "e4ef215c9866e85",
   "outputs": [],
   "execution_count": null
  },
  {
   "metadata": {},
   "cell_type": "code",
   "source": [
    "## for visualizing patches\n",
    "n = 374\n",
    "visualize_patch_seg(ct_patch, seg_patch);"
   ],
   "id": "176e83aa8b47827",
   "outputs": [],
   "execution_count": null
  },
  {
   "metadata": {},
   "cell_type": "markdown",
   "source": [
    "### Create sliding window patches\n",
    "save patch only if there's sufficient label pixels"
   ],
   "id": "6cf486fbf25d4b12"
  },
  {
   "metadata": {},
   "cell_type": "code",
   "source": [
    "import torch\n",
    "from process import preprocess, preprocess_seg, postprocess, postprocess_seg\n",
    "\n",
    "ct_folder = Path(\"/media/liushifeng/KINGSTON/lesion3d/sliding_window/ct\")\n",
    "seg_folder = Path(\"/media/liushifeng/KINGSTON/lesion3d/sliding_window/seg\")"
   ],
   "id": "83296465423c4c57",
   "outputs": [],
   "execution_count": null
  },
  {
   "metadata": {},
   "cell_type": "code",
   "source": [
    "patch_counts = {}\n",
    "for ct_filename in tqdm(os.listdir(train_images)):\n",
    "    ct_path = train_images / ct_filename\n",
    "    seg_path = train_labels / ct_filename.replace(\"_0000.nii.gz\", \".nii.gz\")\n",
    "\n",
    "    ct = preprocess(ct_path)\n",
    "    seg = preprocess_seg(seg_path)\n",
    "\n",
    "    patch_size = [64, 128, 128]\n",
    "    overlap_ratio = 0.5\n",
    "\n",
    "    all_ct_patches, _ = get_sliding_patches(ct[0], patch_size, overlap_ratio)\n",
    "    all_seg_patches, zyx_ranges = get_sliding_patches(seg[0], patch_size, overlap_ratio)\n",
    "\n",
    "    indices = useful_patch_indices(all_seg_patches, min_voxels=30)\n",
    "    ct_patches = [p for i, p in enumerate(all_ct_patches) if i in indices]\n",
    "    seg_patches = [p for i, p in enumerate(all_seg_patches) if i in indices]\n",
    "\n",
    "    root_name = ct_filename.replace(\"_0000.nii.gz\", \".nii.gz\").split(\".\")[0]\n",
    "    patch_counts[root_name] = 0\n",
    "    for i in range(len(ct_patches)):\n",
    "        name = f\"{root_name}_patch{i}.pt\"\n",
    "        torch.save(torch.tensor(ct_patches[i]).half(), ct_folder / name)\n",
    "        torch.save(torch.tensor(seg_patches[i]).half(), seg_folder / name)\n",
    "        patch_counts[root_name] += 1"
   ],
   "id": "c3c6dcb4a2deceff",
   "outputs": [],
   "execution_count": null
  },
  {
   "metadata": {},
   "cell_type": "code",
   "source": [
    "## for visualizing patches\n",
    "n = 374\n",
    "visualize_patch_seg(ct_patches[0], seg_patches[0]);"
   ],
   "id": "a51fd0ff31638527",
   "outputs": [],
   "execution_count": null
  },
  {
   "metadata": {},
   "cell_type": "code",
   "source": [
    "# visualize number of patches per image\n",
    "df = pd.DataFrame([[k,v] for k, v in patch_counts.items()])\n",
    "df.columns = [\"n\", \"c\"]\n",
    "df.hist(bins=100, figsize=(5,3))"
   ],
   "id": "fe1bae2da49a84a8",
   "outputs": [],
   "execution_count": null
  }
 ],
 "metadata": {
  "kernelspec": {
   "display_name": "Python 3",
   "language": "python",
   "name": "python3"
  },
  "language_info": {
   "codemirror_mode": {
    "name": "ipython",
    "version": 2
   },
   "file_extension": ".py",
   "mimetype": "text/x-python",
   "name": "python",
   "nbconvert_exporter": "python",
   "pygments_lexer": "ipython2",
   "version": "2.7.6"
  }
 },
 "nbformat": 4,
 "nbformat_minor": 5
}
