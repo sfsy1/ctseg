{
 "cells": [
  {
   "cell_type": "markdown",
   "id": "e413e5d8-c901-403b-a444-a3fd8a6cbcf7",
   "metadata": {},
   "source": [
    "# Generate CT slice video\n",
    "Lung and abdomen windows with optional segmentations"
   ]
  },
  {
   "cell_type": "code",
   "id": "17270778-df59-4846-b349-e29be5e0d3ad",
   "metadata": {},
   "source": [
    "%load_ext autoreload\n",
    "%autoreload 2"
   ],
   "outputs": [],
   "execution_count": null
  },
  {
   "metadata": {},
   "cell_type": "code",
   "source": [
    "import os\n",
    "import warnings\n",
    "warnings.filterwarnings('ignore', category=SyntaxWarning)\n",
    "\n",
    "from pathlib import Path\n",
    "from concurrent.futures import ThreadPoolExecutor, wait\n",
    "\n",
    "import arrow\n",
    "import matplotlib\n",
    "import matplotlib.pyplot as plt\n",
    "import SimpleITK as sitk\n",
    "from tqdm import tqdm\n",
    "\n",
    "from utils.data import check_multiple_cts\n",
    "from utils.video import create_mp4\n",
    "from utils.plot import (\n",
    "    plot_slice_full,\n",
    "    plot_and_save,\n",
    "    get_slice_range,\n",
    ")\n",
    "\n",
    "# matplotlib.use('Agg')  # Prevent figures from being cached"
   ],
   "id": "b651345bbc07f25a",
   "outputs": [],
   "execution_count": null
  },
  {
   "cell_type": "markdown",
   "id": "ab611f26ed2c8276",
   "metadata": {},
   "source": [
    "### Note\n",
    "This code assumes there is 1 volume and 1 segmentation per subject. If there are more volumes per subject, keep only the one that's segmented (mentioned in the spreadsheet in the dataset)"
   ]
  },
  {
   "metadata": {},
   "cell_type": "code",
   "source": [
    "# input\n",
    "project_folder = Path(\"/home/liushifeng/Desktop/AutoPET dataset\")\n",
    "dataset_folder = project_folder / \"dataset B_melanoma\"\n",
    "seg_folder = project_folder / \"SEG_Melanoma_B_Rifki\"\n",
    "\n",
    "suv_filename = \"SUV.nii.gz\"\n",
    "ct_filename = \"CT.nii.gz\"\n",
    "ct_paths = list(dataset_folder.glob(f\"*/*/{ct_filename}\"))\n",
    "check_multiple_cts(ct_paths)\n",
    "\n",
    "# output\n",
    "output_folder = Path(\"../outputs\")\n",
    "frames_folder = output_folder / \"frames\"\n",
    "videos_folder = output_folder / \"videos\""
   ],
   "id": "5059b38865bc767b",
   "outputs": [],
   "execution_count": null
  },
  {
   "cell_type": "markdown",
   "id": "98127ed26775ac29",
   "metadata": {},
   "source": [
    "## Generate video\n",
    "Done concurrently, set the appropriate workers based on CPU cores"
   ]
  },
  {
   "metadata": {},
   "cell_type": "code",
   "source": [
    "# for testing\n",
    "%matplotlib inline\n",
    "plot_slice_full(ct_array, seg_array, suv_array, 300);"
   ],
   "id": "26c88a16f442c5a9",
   "outputs": [],
   "execution_count": null
  },
  {
   "metadata": {},
   "cell_type": "code",
   "source": [
    "max_workers = 31\n",
    "exists = True\n",
    "matplotlib.use('Agg');\n",
    "\n",
    "for i, ct_path in enumerate(ct_paths):\n",
    "    if \"PETCT_d65cf203be\" in str(ct_path):  # process will start after this\n",
    "        exists = False\n",
    "        continue\n",
    "    if exists:\n",
    "        continue\n",
    "\n",
    "    # path manipulation\n",
    "    dataset_name = ct_path.parts[-4]\n",
    "    patient = ct_path.parts[-3]\n",
    "    study = ct_path.parts[-2]\n",
    "    print(f\"[{i + 1:03d}/{len(ct_paths)}] Processing: {patient}/{study}\")\n",
    "\n",
    "    scan_hash = ct_path.parent.parent.stem.split(\"_\")[1]\n",
    "    seg_path = list(seg_folder.glob(f\"*{scan_hash}*\"))[0]\n",
    "    suv_path = ct_path.parent / suv_filename\n",
    "\n",
    "    # load data\n",
    "    ct_img = sitk.ReadImage(ct_path)\n",
    "    suv_img = sitk.ReadImage(suv_path)\n",
    "    seg_img = sitk.ReadImage(seg_path)\n",
    "    suv_img = sitk.Resample(suv_img, ct_img, sitk.Transform(), sitk.sitkLinear, 0.0, suv_img.GetPixelID())\n",
    "    seg_img = sitk.Resample(seg_img, ct_img, sitk.Transform(), sitk.sitkNearestNeighbor, 0.0, seg_img.GetPixelID())\n",
    "\n",
    "    ct_array = sitk.GetArrayFromImage(ct_img)\n",
    "    suv_array = sitk.GetArrayFromImage(suv_img)\n",
    "    seg_array = sitk.GetArrayFromImage(seg_img)\n",
    "\n",
    "    slice_range, n_slices = get_slice_range(seg_array)\n",
    "\n",
    "    # create frames folder\n",
    "    video_name = f\"{patient}__{study}\"\n",
    "    ct_frames_folder = frames_folder / dataset_name / video_name\n",
    "    ct_frames_folder.mkdir(exist_ok=True, parents=True)\n",
    "\n",
    "    # create videos folder\n",
    "    date_str = arrow.now().format(\"YYYY-MM-DD\")\n",
    "    dataset_video_path = videos_folder / dataset_name\n",
    "    dataset_video_path.mkdir(exist_ok=True, parents=True)\n",
    "    output_path = dataset_video_path / f\"{video_name}_video_{date_str}.mp4\"\n",
    "\n",
    "    print(f\"Generating {n_slices} frames\")\n",
    "    # # no concurrency\n",
    "    # for i in tqdm(range(*slice_range)):\n",
    "    #     args = ct_array, seg_array, i, slice_range, ct_frames_folder\n",
    "    #     plot_and_save(args)\n",
    "    with ThreadPoolExecutor(max_workers=max_workers) as e:\n",
    "        futures = []\n",
    "        for i in range(*slice_range):\n",
    "            args = ct_array, seg_array, suv_array, i, ct_frames_folder\n",
    "            futures.append(e.submit(plot_and_save, args))\n",
    "        wait(futures)\n",
    "\n",
    "    print(f\"Creating video: {output_path.name} from\")\n",
    "    create_mp4(output_path, ct_frames_folder)\n",
    "    print(f\"Video saved as {output_path}\")\n",
    "    print(\"-\" * 30)"
   ],
   "id": "998aee0375adc591",
   "outputs": [],
   "execution_count": null
  },
  {
   "metadata": {},
   "cell_type": "code",
   "source": "os.listdir(\"../outputs/\")",
   "id": "1013cc5481fb320c",
   "outputs": [],
   "execution_count": null
  },
  {
   "metadata": {},
   "cell_type": "code",
   "source": [
    "# visualize a single slice\n",
    "i = 880\n",
    "fig = plot_slice_full(ct_array, seg_array, i, slice_range)\n",
    "# fig.savefig(f\"test2.jpg\", bbox_inches='tight', pad_inches=0, dpi=180);"
   ],
   "id": "49b39486e0344e2c",
   "outputs": [],
   "execution_count": null
  },
  {
   "cell_type": "markdown",
   "id": "bc90838e-b782-4810-ac30-767ee2f8b091",
   "metadata": {},
   "source": [
    "## Window and visualize"
   ]
  },
  {
   "cell_type": "code",
   "id": "9472b4cc-2328-4695-8d93-8f2de8e46d5a",
   "metadata": {},
   "source": [
    "# Select a slice for visualization (e.g., middle slice)\n",
    "slice_idx = 1360\n",
    "\n",
    "# Create overlay\n",
    "# fig, ax = plt.subplots()\n",
    "fig, (ax1, ax2) = plt.subplots(1, 2, figsize=(12, 6))\n",
    "\n",
    "ax1.imshow(lung_ct[slice_idx], cmap='gray')\n",
    "# ax1.imshow(seg_data[slice_idx], alpha=0.3, cmap='Reds')\n",
    "ax1.set_title('Lung Window with Segmentation Overlay')\n",
    "\n",
    "ax2.imshow(abdomen_ct[slice_idx], cmap='gray')\n",
    "# ax2.imshow(seg_data[slice_idx], alpha=0.3, cmap='Reds')\n",
    "ax2.set_title('Abdomen Window with Segmentation Overlay')\n",
    "\n",
    "plt.show()"
   ],
   "outputs": [],
   "execution_count": null
  },
  {
   "cell_type": "markdown",
   "id": "5363dc53-bf78-4dab-b625-c6507026d302",
   "metadata": {},
   "source": [
    "---\n",
    "# Misc Scripts\n",
    "## Rename files"
   ]
  },
  {
   "cell_type": "code",
   "id": "4adc343f-01a0-471e-b690-86c61593c67a",
   "metadata": {},
   "source": [
    "folder = Path(\"/home/liushifeng/Documents/GitHub/ctseg/outputs/dataset C_lymphoma/\")\n",
    "folder_names = os.listdir(folder)\n",
    "\n",
    "for n in tqdm(folder_names):\n",
    "    new_name = n.replace(\"dataset C_lymphoma__\", \"\").replace(\"dataset C_lymphoma-\", \"\")\n",
    "    src = folder / n\n",
    "    dst = folder / new_name\n",
    "    os.rename(src, dst)"
   ],
   "outputs": [],
   "execution_count": null
  }
 ],
 "metadata": {
  "kernelspec": {
   "display_name": "Python 3 (ipykernel)",
   "language": "python",
   "name": "python3"
  },
  "language_info": {
   "codemirror_mode": {
    "name": "ipython",
    "version": 3
   },
   "file_extension": ".py",
   "mimetype": "text/x-python",
   "name": "python",
   "nbconvert_exporter": "python",
   "pygments_lexer": "ipython3",
   "version": "3.10.12"
  }
 },
 "nbformat": 4,
 "nbformat_minor": 5
}
