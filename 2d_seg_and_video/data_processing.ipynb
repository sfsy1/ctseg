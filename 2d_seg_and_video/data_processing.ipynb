{
 "cells": [
  {
   "metadata": {},
   "cell_type": "markdown",
   "source": "Sort selected scans for patients by date string (from the spreadsheet)",
   "id": "23e99300d87c2443"
  },
  {
   "cell_type": "code",
   "id": "initial_id",
   "metadata": {
    "collapsed": true
   },
   "source": [
    "s = \"\"\"\n",
    "mel-m-d65cf203be-04282007\n",
    "mel-f-11afab3485-05252003\n",
    "mel-m-4404466919-09102005\n",
    "mel-f-1019ae8551-04062007\n",
    "mel-f-e79291780d-05142007\n",
    "mel-f-5060603ba4-09192003\n",
    "mel-m-32aa845af1-01262007\n",
    "mel-m-3c3ee87fc6-06132003\n",
    "mel-f-b510436d83-11102002\n",
    "mel-f-978c395243-01132005\n",
    "mel-m-7f2a604e03-05052002\n",
    "mel-m-1b199d094d-03162002\n",
    "mel-m-7958ce0f7c-08312003\n",
    "mel-m-9abb9583ec-05302002\n",
    "mel-m-912a25778f-05172007\n",
    "mel-m-7ce196485f-01192006\n",
    "mel-m-6efefcb92a-03262005\n",
    "mel-m-8e02f36295-11082004\n",
    "mel-f-06a46414eb-03122006\n",
    "mel-f-ae8c77a995-05182007\n",
    "\"\"\""
   ],
   "outputs": [],
   "execution_count": null
  },
  {
   "metadata": {},
   "cell_type": "code",
   "source": "l = sorted([\"  \".join(x.split(\"-\")[2:4]) for x in s.split(\"\\n\") if x])",
   "id": "d394aad141597f1a",
   "outputs": [],
   "execution_count": null
  },
  {
   "metadata": {},
   "cell_type": "code",
   "source": [
    "for x in l:\n",
    "    print(x)"
   ],
   "id": "103241e345c4387",
   "outputs": [],
   "execution_count": null
  }
 ],
 "metadata": {
  "kernelspec": {
   "display_name": "Python 3",
   "language": "python",
   "name": "python3"
  },
  "language_info": {
   "codemirror_mode": {
    "name": "ipython",
    "version": 2
   },
   "file_extension": ".py",
   "mimetype": "text/x-python",
   "name": "python",
   "nbconvert_exporter": "python",
   "pygments_lexer": "ipython2",
   "version": "2.7.6"
  }
 },
 "nbformat": 4,
 "nbformat_minor": 5
}
