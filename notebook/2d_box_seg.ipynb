{
 "cells": [
  {
   "metadata": {},
   "cell_type": "markdown",
   "source": [
    "Training a 2D bbox to segment model\n",
    "---"
   ],
   "id": "7acbf8c49883ba50"
  },
  {
   "metadata": {},
   "cell_type": "code",
   "source": [
    "%load_ext autoreload\n",
    "%autoreload 2"
   ],
   "id": "b106ec577ce1c824",
   "outputs": [],
   "execution_count": null
  },
  {
   "metadata": {},
   "cell_type": "code",
   "source": [
    "import matplotlib.pyplot as plt\n",
    "import numpy as np\n",
    "import os\n",
    "import pandas as pd\n",
    "from evaluation.eval_utils import get_seg_bbox\n",
    "from pathlib import Path\n",
    "from tqdm import tqdm\n",
    "\n",
    "import SimpleITK as sitk"
   ],
   "id": "b71b30852b807d96",
   "outputs": [],
   "execution_count": null
  },
  {
   "metadata": {},
   "cell_type": "code",
   "source": [
    "data_folder = Path(\"/media/liushifeng/KINGSTON/ULS Jan 2025/ULS23/novel_data/ULS23_DeepLesion3D\")\n",
    "seg_folder = data_folder / \"labels\"\n",
    "ct_folder = data_folder / \"images\"\n",
    "\n",
    "with open(data_folder / \"train.txt\", \"r\") as f:\n",
    "    train_names = [x.strip() for x in f.readlines()]\n",
    "with open(data_folder / \"val.txt\", \"r\") as f:\n",
    "    val_names = [x.strip() for x in f.readlines()]"
   ],
   "id": "c30e0214b5bbe9f3",
   "outputs": [],
   "execution_count": null
  },
  {
   "metadata": {},
   "cell_type": "code",
   "source": "# get input crops and segments from GT 3D segs",
   "id": "28c66a6d028d94c4",
   "outputs": [],
   "execution_count": null
  },
  {
   "metadata": {},
   "cell_type": "code",
   "source": [
    "filenames = [x for x in os.listdir(seg_folder) if \".zip\" not in x]\n",
    "seg_paths = {x: seg_folder / x for x in filenames}\n",
    "ct_paths = {x: ct_folder / x for x in filenames}"
   ],
   "id": "a640cb625255c6c5",
   "outputs": [],
   "execution_count": null
  },
  {
   "metadata": {},
   "cell_type": "code",
   "source": [
    "ignored_train_samples = [x.strip() for x in\n",
    "    \"\"\"\n",
    "    000148_04_01_034_lesion_01\n",
    "    003287_01_01_188_lesion_01\n",
    "    003931_01_01_078_lesion_01\n",
    "    000026_06_01_257_lesion_01\n",
    "    000346_01_01_085_lesion_01\n",
    "    000215_05_01_096_lesion_01\n",
    "    001354_04_02_305_lesion_01\n",
    "    001564_02_02_513_lesion_01\n",
    "    \"\"\".split(\"\\n\") if x.strip()]"
   ],
   "id": "cd4a56b7eb04c589",
   "outputs": [],
   "execution_count": null
  },
  {
   "metadata": {},
   "cell_type": "code",
   "source": [
    "from utils.plot import transparent_cmap\n",
    "\n",
    "qc_filenames = [x.strip() for x in\n",
    "    \"\"\"\n",
    "001564_02_02_513_lesion_01\n",
    "    \"\"\".split(\"\\n\") if x.strip()]\n",
    "\n",
    "# for filename in list(seg_paths.keys()):\n",
    "for filename in qc_filenames:\n",
    "    if filename.split(\".\")[0] in ignored_train_samples:\n",
    "        print(\"skipped:\", filename.split(\".\")[0])\n",
    "        continue\n",
    "    filename += \".nii.gz\"\n",
    "\n",
    "    ct = sitk.ReadImage(ct_paths[filename])\n",
    "    ct_array = sitk.GetArrayFromImage(ct)\n",
    "    seg = sitk.ReadImage(seg_paths[filename])\n",
    "    seg_array = sitk.GetArrayFromImage(seg)\n",
    "    print(filename.split(\".\")[0])\n",
    "    print(\"array sizes\", ct_array.shape, seg_array.shape)\n",
    "\n",
    "    seg_slice_indices = np.where(seg_array.any(axis=(1,2)) > 0)[0]\n",
    "\n",
    "    # for i in seg_slice_indices:\n",
    "    #     print(i)\n",
    "    mid_slice_index = seg_slice_indices[len(seg_slice_indices) // 2]\n",
    "    for i in [mid_slice_index]:\n",
    "        ct_slice = ct_array[i]\n",
    "        seg_slice = seg_array[i]\n",
    "        crop_bbox = get_seg_bbox(seg_slice)\n",
    "\n",
    "        print(\"slice id\", seg_slice_indices)\n",
    "        print(\"bbox\", crop_bbox)\n",
    "\n",
    "        # crops areas for plotting\n",
    "        m_limit = min(min(crop_bbox[:2]), ct_slice.shape[1] - crop_bbox[2], ct_slice.shape[0] - crop_bbox[3])\n",
    "        m = min(50, m_limit) - 2\n",
    "        crop_bbox[0] -= m\n",
    "        crop_bbox[1] -= m\n",
    "        crop_bbox[2] += m\n",
    "        crop_bbox[3] += m\n",
    "        ct_slice_crop = ct_slice[crop_bbox[1]:crop_bbox[3]+1, crop_bbox[0]:crop_bbox[2]+1]\n",
    "        seg_slice_crop = seg_slice[crop_bbox[1]:crop_bbox[3]+1, crop_bbox[0]:crop_bbox[2]+1]\n",
    "        _, axes = plt.subplots(1, 2, figsize=(10, 5))\n",
    "\n",
    "        vmin, vmax = 200, 700\n",
    "        axes[0].imshow(ct_slice_crop,\n",
    "                       vmin=vmin, vmax=vmax,\n",
    "                       cmap='gray')\n",
    "        axes[1].imshow(ct_slice_crop,\n",
    "                       vmin=vmin, vmax=vmax,\n",
    "                       cmap='gray')\n",
    "        axes[1].imshow(seg_slice_crop, cmap=transparent_cmap(\"blue\"), alpha=0.4)\n",
    "        for ax in axes:\n",
    "            ax.axis(\"off\")\n",
    "        plt.show()\n",
    "\n",
    "\n",
    "        # plot the entire area\n",
    "        _, axes = plt.subplots(1, 2, figsize=(10, 5))\n",
    "        axes[0].imshow(ct_slice,\n",
    "                       # vmin=-500, vmax=500,\n",
    "                       cmap='gray')\n",
    "        axes[1].imshow(ct_slice,\n",
    "                       # vmin=-500, vmax=500,\n",
    "                       cmap='gray')\n",
    "        axes[1].imshow(seg_slice, cmap=transparent_cmap(\"blue\"), alpha=0.4)\n",
    "\n",
    "        for ax in axes:\n",
    "            ax.axis(\"off\")\n",
    "        plt.show()"
   ],
   "id": "699ede86ed72abbe",
   "outputs": [],
   "execution_count": null
  },
  {
   "metadata": {},
   "cell_type": "code",
   "source": [
    "plt.imshow(ct_slice, cmap='gray'); plt.axis(\"off\");\n",
    "plt.imshow(seg_slice, cmap='jet', alpha=0.5); plt.axis(\"off\");"
   ],
   "id": "ec58bff2499ee0bb",
   "outputs": [],
   "execution_count": null
  },
  {
   "metadata": {},
   "cell_type": "code",
   "source": [
    "\n",
    "results = []\n",
    "for pred in tqdm(os.listdir(pred_folder)):\n",
    "    lesion_name = pred.replace(\"_pred.nrrd\", \"\")\n",
    "    gt_path = gt_folder / f\"{lesion_name}.nii.gz.zip\""
   ],
   "id": "7239d075b011e75",
   "outputs": [],
   "execution_count": null
  }
 ],
 "metadata": {
  "kernelspec": {
   "display_name": "Python 3",
   "language": "python",
   "name": "python3"
  },
  "language_info": {
   "codemirror_mode": {
    "name": "ipython",
    "version": 2
   },
   "file_extension": ".py",
   "mimetype": "text/x-python",
   "name": "python",
   "nbconvert_exporter": "python",
   "pygments_lexer": "ipython2",
   "version": "2.7.6"
  }
 },
 "nbformat": 4,
 "nbformat_minor": 5
}
