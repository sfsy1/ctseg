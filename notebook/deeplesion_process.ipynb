{
 "cells": [
  {
   "cell_type": "code",
   "execution_count": null,
   "id": "0bb9643b-4354-4cb1-9632-d22fd9a6b1c2",
   "metadata": {},
   "outputs": [],
   "source": [
    "%load_ext autoreload\n",
    "%autoreload 2"
   ]
  },
  {
   "cell_type": "code",
   "execution_count": null,
   "id": "1b04eb6a-95e2-4f50-bc0c-8c53e8aa949b",
   "metadata": {},
   "outputs": [],
   "source": [
    "from glob import glob\n",
    "import os\n",
    "import pandas as pd\n",
    "import numpy as np\n",
    "\n",
    "from pathlib import Path\n",
    "from PIL import Image, ImageDraw\n",
    "import matplotlib.pyplot as plt"
   ]
  },
  {
   "cell_type": "code",
   "execution_count": null,
   "id": "6d37ff99-9384-4bae-ba1e-cf46427cbe01",
   "metadata": {},
   "outputs": [],
   "source": [
    "# Coarse lesion types 1~8: bone, abdomen, mediastinum, liver, lung, kidney, soft tissue, pelvis\n",
    "# Only the lesions in the val and test sets were annotated with others denoted as -1."
   ]
  },
  {
   "cell_type": "code",
   "execution_count": null,
   "id": "4bb40a94-7805-42c4-a9ff-00ea1cca891f",
   "metadata": {},
   "outputs": [],
   "source": [
    "HU_FACTOR = 32768\n",
    "\n",
    "data_dir = Path(\"/home/liushifeng/Desktop/DeepLesion Dataset/\")\n",
    "df = pd.read_csv(data_dir / \"DL_info.csv\")"
   ]
  },
  {
   "cell_type": "code",
   "execution_count": null,
   "id": "6bf10728-80ec-41b5-b204-8af6bc81a1f4",
   "metadata": {},
   "outputs": [],
   "source": [
    "df['scan_name'] = df['File_name'].str.split(\"_\").str[:-1].str.join(\"_\")\n",
    "df['file_name'] = df['File_name'].str.split(\"_\").str[-1]\n",
    "df['image_path'] = df['scan_name'] + \"/\" + df['file_name']"
   ]
  },
  {
   "cell_type": "markdown",
   "id": "71e31fc0-3ba6-4f11-beea-75e6a3bb1e57",
   "metadata": {},
   "source": [
    "1. unzip png zip\n",
    "2. get relevant slices\n",
    "3. save them in compressed format"
   ]
  },
  {
   "cell_type": "code",
   "execution_count": null,
   "id": "d8ba0f16-9cff-4ae6-bca9-629d8d4f9ed6",
   "metadata": {},
   "outputs": [],
   "source": [
    "# check length of string lists\n",
    "df[\"Measurement_coordinates\"].str.split(\",\").apply(len).value_counts()\n",
    "df['Bounding_boxes'].str.split(\",\").apply(len).value_counts()"
   ]
  },
  {
   "cell_type": "code",
   "execution_count": null,
   "id": "ad3e961c-96d8-46b9-94bd-8416ba3b54f6",
   "metadata": {},
   "outputs": [],
   "source": [
    "df.head(3)"
   ]
  },
  {
   "cell_type": "markdown",
   "id": "c587cef6-209c-408f-b06d-536312ef53dd",
   "metadata": {},
   "source": [
    "* filter out `noisy` lesions\n",
    "* check bounding boxes"
   ]
  },
  {
   "cell_type": "code",
   "execution_count": null,
   "id": "5c7d8ff7-7999-40f0-b4b3-da1b7f308a55",
   "metadata": {},
   "outputs": [],
   "source": [
    "proj_folder = Path(\"/home/liushifeng/Desktop/DeepLesion Dataset/\")"
   ]
  },
  {
   "cell_type": "code",
   "execution_count": null,
   "id": "4f767040-0a95-44fb-9fbe-60cec871ba82",
   "metadata": {},
   "outputs": [],
   "source": [
    "imgs = []\n",
    "crops = []\n",
    "n = 0\n",
    "\n",
    "data_folders = [proj_folder / f for f in os.listdir(proj_folder) if f.startswith(\"Images_png_\") and \".zip\" not in f]\n",
    "\n",
    "for data_folder in data_folders:\n",
    "    print(data_folder)\n",
    "    # data_folder = Path(\"/home/liushifeng/Desktop/DeepLesion Dataset/Images_png_56/\")\n",
    "    scan_folders = [data_folder / \"Images_png\" / s for s in os.listdir(Path(data_folder) / \"Images_png\")]\n",
    "    \n",
    "    for scan_folder in scan_folders:\n",
    "        df_scan = df[df['scan_name'].eq(scan_folder.stem)]\n",
    "        if df_scan.empty:\n",
    "            continue\n",
    "            \n",
    "        for i in range(len(df_scan)):\n",
    "            # slice_paths = [scan_folder / s for s in os.listdir(scan_folder)]\n",
    "            df_slice = df_scan.iloc[i]\n",
    "    \n",
    "            key_slice_path = scan_folder / df_slice['file_name']\n",
    "            img = Image.open(key_slice_path)\n",
    "            bbox = process_bbox_str(df_slice['Bounding_boxes'])\n",
    "\n",
    "            imgs.append(np.array(img, dtype=int).flatten())\n",
    "            # display(display_img(img, bbox))\n",
    "            \n",
    "            crop = crop_lesion(img, bbox)\n",
    "            crops.append(np.array(crop, dtype=int).flatten())\n",
    "            break\n",
    "            \n",
    "        n += 1\n",
    "        if n > 999:\n",
    "            print(\"1000 images\")\n",
    "            break\n",
    "\n",
    "len(crops)"
   ]
  },
  {
   "cell_type": "code",
   "execution_count": null,
   "id": "34a32cb1-8c29-4bdc-8dd9-774dec27c76d",
   "metadata": {},
   "outputs": [],
   "source": [
    "key_slice_path"
   ]
  },
  {
   "cell_type": "code",
   "execution_count": null,
   "id": "15c1b15e-0acd-4aeb-84b6-253cd7417a12",
   "metadata": {},
   "outputs": [],
   "source": [
    "img = Image.open(\"/home/liushifeng/Desktop/DeepLesion Dataset/Images_png_55/Images_png/004263_01_01/236.png\")"
   ]
  },
  {
   "cell_type": "code",
   "execution_count": null,
   "id": "5609147b-6f0d-45fc-bec6-9f4ef3f855bd",
   "metadata": {},
   "outputs": [],
   "source": [
    "img_hu = (np.array(img, dtype=int) - HU_FACTOR)"
   ]
  },
  {
   "cell_type": "code",
   "execution_count": null,
   "id": "97046b2f-e07f-4a56-8c62-b6276d0e140c",
   "metadata": {},
   "outputs": [],
   "source": [
    "lung_window = (-1024, -300)\n",
    "lung = clip_normalize(img_hu, *lung_window, remove_high=True)\n",
    "plt.imshow(lung, cmap=\"gray\"); plt.axis(\"off\");"
   ]
  },
  {
   "cell_type": "code",
   "execution_count": null,
   "id": "2905a162-762b-4c78-bbc6-01deac9a109f",
   "metadata": {},
   "outputs": [],
   "source": [
    "soft_window = (-300, 400)\n",
    "soft = clip_normalize(img_hu, *soft_window, remove_high=True)\n",
    "plt.imshow(soft, cmap=\"gray\"); plt.axis(\"off\");"
   ]
  },
  {
   "cell_type": "code",
   "execution_count": null,
   "id": "1167b94f-7032-42cf-8124-8c8615c15337",
   "metadata": {},
   "outputs": [],
   "source": [
    "bone_window = (400, 1000)\n",
    "bone = clip_normalize(img_hu, *bone_window, remove_high=False)\n",
    "plt.imshow(bone, cmap=\"gray\"); plt.axis(\"off\");"
   ]
  },
  {
   "cell_type": "code",
   "execution_count": null,
   "id": "ca871dad-c796-4d83-ac88-f6bf988d867f",
   "metadata": {},
   "outputs": [],
   "source": [
    "base = np.dstack([lung] * 3)\n",
    "base[:, :, 0] = (base[:, :, 0] * soft)\n",
    "# base[:, :, 1] = (base[:, :, 1] * soft)\n",
    "\n",
    "base[:, :, 2] = (base[:, :, 2] * bone)\n",
    "plt.imshow(base)"
   ]
  },
  {
   "cell_type": "code",
   "execution_count": null,
   "id": "8d7cec8c-5524-4434-87b9-8fa13b9c31f2",
   "metadata": {},
   "outputs": [],
   "source": [
    "# Image.fromarray(np.array(soft*255, dtype=np.uint8)).save(\"test.png\")\n",
    "# np.dstack([soft] * 3)\n",
    "img_rgb = np.stack([soft, bone, lung], axis=2)\n",
    "plt.imshow(img_rgb); plt.axis(\"off\");"
   ]
  },
  {
   "cell_type": "code",
   "execution_count": null,
   "id": "cc40342b-ea53-4129-950a-fc32dfa0114d",
   "metadata": {},
   "outputs": [],
   "source": [
    "img_hu"
   ]
  },
  {
   "cell_type": "code",
   "execution_count": null,
   "id": "0719ca34-ea78-4d20-affc-6f826b5b644b",
   "metadata": {},
   "outputs": [],
   "source": [
    "key_slice_path"
   ]
  },
  {
   "cell_type": "code",
   "execution_count": null,
   "id": "5779c8fd-00f7-4893-9882-f8acb61bdbad",
   "metadata": {},
   "outputs": [],
   "source": [
    "display_img(img_rgb, bbox)"
   ]
  },
  {
   "cell_type": "code",
   "execution_count": null,
   "id": "8e141811-9242-43ea-875c-60dff67aafe9",
   "metadata": {},
   "outputs": [],
   "source": []
  },
  {
   "cell_type": "code",
   "execution_count": null,
   "id": "bb6b57ed-0ec0-488f-9eab-78b60176d1c0",
   "metadata": {},
   "outputs": [],
   "source": [
    "img_uint8 = Image.fromarray(np.array(img_rgb * 255, dtype=np.uint8))\n",
    "img_uint8.save(\"rgb.jpg\", subsampling=0, quality=95)"
   ]
  },
  {
   "cell_type": "code",
   "execution_count": null,
   "id": "a488295d-2b40-493c-b653-c3136024787e",
   "metadata": {},
   "outputs": [],
   "source": []
  },
  {
   "cell_type": "code",
   "execution_count": null,
   "id": "1b2a14d2-4059-40e8-82cf-a2dac3555008",
   "metadata": {},
   "outputs": [],
   "source": [
    "def clip_normalize(img_arr, min_value, max_value, remove_high=True):\n",
    "    \"\"\"\n",
    "    remove_high: values > max_value is set to min_value i.e. 0 after normalization\n",
    "    \"\"\"\n",
    "    img_arr = img_arr.copy()\n",
    "    if remove_high:\n",
    "        img_arr[img_arr > max_value] = min_value\n",
    "    img_arr = img_arr.clip(min_value, max_value)\n",
    "    return (img_arr - min_value) / (max_value - min_value)\n",
    "\n",
    "def process_bbox_str(bbox):\n",
    "    return [float(x) for x in bbox.split(\", \")]\n",
    "\n",
    "def crop_lesion(img, bbox):\n",
    "    return img.crop(bbox)\n",
    "\n",
    "def display_img(img, bbox=None):\n",
    "    # img_arr = np.array(img, dtype=int)\n",
    "    # img_arr_uint8 = np.array(((img_arr - img_arr.max()) / (img_arr.max() - img_arr.min())) * 255, dtype=np.uint8)\n",
    "    img_arr = np.array(img)\n",
    "    img_arr_uint8 = np.array(img_arr * 255, dtype=np.uint8)\n",
    "    img = Image.fromarray(img_arr_uint8).convert(\"RGB\")\n",
    "    if bbox is not None:            \n",
    "        draw = ImageDraw.Draw(img)\n",
    "        draw.rectangle(bbox, outline=\"white\")\n",
    "    return img"
   ]
  },
  {
   "cell_type": "code",
   "execution_count": null,
   "id": "ace843c3-baad-4780-a7dc-1d95244e8b47",
   "metadata": {},
   "outputs": [],
   "source": []
  },
  {
   "cell_type": "code",
   "execution_count": null,
   "id": "80b6ef3c-3108-4bfd-967f-363728fa374a",
   "metadata": {},
   "outputs": [],
   "source": [
    "df_imgs = pd.Series(np.hstack(imgs) - HU_FACTOR)\n",
    "df_imgs[df_imgs.between(-1200, 1000)].hist(bins=200);\n"
   ]
  },
  {
   "cell_type": "code",
   "execution_count": null,
   "id": "c54906bc-0934-4677-a1ca-699f3d7529e5",
   "metadata": {},
   "outputs": [],
   "source": [
    "df_crops = pd.Series(np.hstack(crops) - HU_FACTOR)\n",
    "\n",
    "df_crops[df_crops.between(-2000, 500)].hist(bins=200);"
   ]
  },
  {
   "cell_type": "code",
   "execution_count": null,
   "id": "83f57e62-cb24-4962-857e-f1d6c1d368fa",
   "metadata": {},
   "outputs": [],
   "source": []
  },
  {
   "cell_type": "code",
   "execution_count": null,
   "id": "9de708cb-e47b-446a-9342-f0c3327ceebb",
   "metadata": {},
   "outputs": [],
   "source": [
    "img_path = \"/home/liushifeng/Desktop/DeepLesion Dataset/Images_png_56/Images_png/004459_01_01/021.png\""
   ]
  },
  {
   "cell_type": "code",
   "execution_count": null,
   "id": "d988a34e-1d0a-4d7f-bc01-7a94ef07eebe",
   "metadata": {},
   "outputs": [],
   "source": [
    "pd.Series(img_arr.flatten() - HU_FACTOR).hist(bins=100);"
   ]
  }
 ],
 "metadata": {
  "kernelspec": {
   "display_name": "Python 3 (ipykernel)",
   "language": "python",
   "name": "python3"
  },
  "language_info": {
   "codemirror_mode": {
    "name": "ipython",
    "version": 3
   },
   "file_extension": ".py",
   "mimetype": "text/x-python",
   "name": "python",
   "nbconvert_exporter": "python",
   "pygments_lexer": "ipython3",
   "version": "3.12.7"
  }
 },
 "nbformat": 4,
 "nbformat_minor": 5
}
