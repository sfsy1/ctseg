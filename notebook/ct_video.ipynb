{
 "cells": [
  {
   "cell_type": "markdown",
   "id": "e413e5d8-c901-403b-a444-a3fd8a6cbcf7",
   "metadata": {},
   "source": [
    "# Generate CT slice video\n",
    "Different windows with optional segmentations"
   ]
  },
  {
   "cell_type": "code",
   "execution_count": null,
   "id": "17270778-df59-4846-b349-e29be5e0d3ad",
   "metadata": {},
   "outputs": [],
   "source": [
    "%load_ext autoreload\n",
    "%autoreload 2"
   ]
  },
  {
   "cell_type": "code",
   "execution_count": null,
   "id": "3b8dea75-9d98-4309-b4b3-bff1f39dcab5",
   "metadata": {},
   "outputs": [],
   "source": [
    "from concurrent.futures import ThreadPoolExecutor, as_completed\n",
    "from pathlib import Path\n",
    "from tqdm import tqdm\n",
    "\n",
    "import nibabel as nib\n",
    "import SimpleITK as sitk\n",
    "import numpy as np\n",
    "from skimage import measure\n",
    "\n",
    "import matplotlib.pyplot as plt\n",
    "\n",
    "from plot_utils import plot_contours, plot_text, plot_slice_full, get_slice_range, plot_and_save"
   ]
  },
  {
   "cell_type": "code",
   "execution_count": null,
   "id": "656e202a-8241-46a1-97ac-7f0fb8484a0a",
   "metadata": {},
   "outputs": [],
   "source": [
    "# Load CT\n",
    "ct_folder = Path(\"/home/liushifeng/Desktop/AutoPET Lymphoma/dataset B_lymphoma/PETCT_1fc35d02da/08-09-2003-NA-PET-CT Ganzkoerper  primaer mit KM-36800/\")\n",
    "ct_folder = Path(\"/home/liushifeng/Desktop/AutoPET Lymphoma/dataset B_lymphoma/PETCT_0f44cec2e6/09-07-2003-NA-PET-CT Ganzkoerper  primaer mit KM-99224/\")\n",
    "\n",
    "ct_file = \"CT.nii.gz\"\n",
    "ct_img = sitk.ReadImage(ct_folder / ct_file)\n",
    "\n",
    "# Load segmentations\n",
    "seg_folder = Path(\"/home/liushifeng/Desktop/AutoPET Lymphoma/SEG_Lymphoma_B_Rifki-selected/\")\n",
    "seg_file = \"SEG_1fc35d02da.nii.gz.nii.seg.nrrd\"\n",
    "seg_file = \"SEG_0f44cec2e6.nii.gz.nii.seg.nrrd\"\n",
    "\n",
    "seg_img = sitk.ReadImage(seg_folder / seg_file)\n",
    "seg_img = sitk.Resample(seg_img, ct_img, sitk.Transform(), sitk.sitkNearestNeighbor, 0.0, seg_img.GetPixelID())\n",
    "seg_data = sitk.GetArrayFromImage(seg_img)\n",
    "\n",
    "# Get arrays\n",
    "ct_array = sitk.GetArrayFromImage(ct_img)\n",
    "seg_array = sitk.GetArrayFromImage(seg_img)"
   ]
  },
  {
   "cell_type": "code",
   "execution_count": null,
   "id": "1f1556f6-ad16-4037-84f3-a4dc3ee38936",
   "metadata": {},
   "outputs": [],
   "source": [
    "slice_range, n_slices = get_slice_range(seg_array)"
   ]
  },
  {
   "cell_type": "code",
   "execution_count": null,
   "id": "88006610-0187-4a4b-a286-f6feaef2805b",
   "metadata": {},
   "outputs": [],
   "source": [
    "image_id = str(Path(\"_\".join(ct_folder.parts[-3:-1])))\n",
    "frames_folder = Path(\"../data\") / image_id\n",
    "frames_folder.mkdir(exist_ok=True)\n",
    "print(frames_folder)"
   ]
  },
  {
   "cell_type": "code",
   "execution_count": null,
   "id": "b164069c-c942-4563-a2e1-97609d59ad01",
   "metadata": {
    "scrolled": true
   },
   "outputs": [],
   "source": [
    "# NOTE: cannot be stopped after starting!\n",
    "with ThreadPoolExecutor(max_workers=16) as e:\n",
    "    for i in tqdm(range(*slice_range)):\n",
    "        args = ct_array, seg_array, i, slice_range, frames_folder\n",
    "        e.submit(plot_and_save, args)"
   ]
  },
  {
   "cell_type": "code",
   "execution_count": null,
   "id": "fe1c53d2-276c-4064-b9d3-ba62bb238dac",
   "metadata": {},
   "outputs": [],
   "source": [
    "# visualize a slice\n",
    "i = 1360\n",
    "fig = plot_slice_full(ct_array, seg_array, i, slice_range)\n",
    "fig.savefig(f\"test2.jpg\", bbox_inches='tight', pad_inches=0, dpi=180);"
   ]
  },
  {
   "cell_type": "code",
   "execution_count": null,
   "id": "8783510a-6059-44ed-b3f2-98568aca7657",
   "metadata": {},
   "outputs": [],
   "source": [
    "ct_folder"
   ]
  },
  {
   "cell_type": "code",
   "execution_count": null,
   "id": "c8f928ba-a92c-452e-9645-45ecdc4009e1",
   "metadata": {},
   "outputs": [],
   "source": [
    "from video_utils import create_mp4"
   ]
  },
  {
   "cell_type": "code",
   "execution_count": null,
   "id": "48021018-9e56-45b9-982e-ec5e15a0bb45",
   "metadata": {},
   "outputs": [],
   "source": [
    "import arrow\n",
    "\n",
    "output_folder = Path(\"../outputs/\")\n",
    "date_str = arrow.now().format(\"YYYY-MM-DD\")\n",
    "output_path = output_folder / f\"video{date_str}_{image_id}.mp4\"\n",
    "\n",
    "create_mp4(output_path, frames_folder)\n",
    "print(f\"Video saved as {output_path}\")"
   ]
  },
  {
   "cell_type": "markdown",
   "id": "bc90838e-b782-4810-ac30-767ee2f8b091",
   "metadata": {},
   "source": [
    "## Window/visualize"
   ]
  },
  {
   "cell_type": "code",
   "execution_count": null,
   "id": "1590cf1f-311f-490d-8894-e7fcff836aff",
   "metadata": {},
   "outputs": [],
   "source": [
    "# Define window settings\n",
    "lung_window = {'center': -600, 'width': 1500}\n",
    "abdomen_window = {'center': 40, 'width': 400}\n",
    "\n",
    "def apply_window(image, center, width):\n",
    "    window_min = center - width // 2\n",
    "    window_max = center + width // 2\n",
    "    return np.clip(image, window_min, window_max)"
   ]
  },
  {
   "cell_type": "code",
   "execution_count": null,
   "id": "c3cf8516-7aa3-430f-9d8a-876dc3de0d19",
   "metadata": {},
   "outputs": [],
   "source": [
    "# Apply windowing\n",
    "lung_ct = apply_window(ct_array, lung_window['center'], lung_window['width'])\n",
    "abdomen_ct = apply_window(ct_array, abdomen_window['center'], abdomen_window['width'])\n",
    "\n",
    "# Normalize for display\n",
    "lung_ct = (lung_ct - lung_ct.min()) / (lung_ct.max() - lung_ct.min())\n",
    "abdomen_ct = (abdomen_ct - abdomen_ct.min()) / (abdomen_ct.max() - abdomen_ct.min())"
   ]
  },
  {
   "cell_type": "code",
   "execution_count": null,
   "id": "9472b4cc-2328-4695-8d93-8f2de8e46d5a",
   "metadata": {},
   "outputs": [],
   "source": [
    "# Select a slice for visualization (e.g., middle slice)\n",
    "slice_idx = 1360\n",
    "\n",
    "# Create overlay\n",
    "# fig, ax = plt.subplots()\n",
    "fig, (ax1, ax2) = plt.subplots(1, 2, figsize=(12, 6))\n",
    "\n",
    "ax1.imshow(lung_ct[slice_idx], cmap='gray')\n",
    "# ax1.imshow(seg_data[slice_idx], alpha=0.3, cmap='Reds')\n",
    "ax1.set_title('Lung Window with Segmentation Overlay')\n",
    "\n",
    "ax2.imshow(abdomen_ct[slice_idx], cmap='gray')\n",
    "# ax2.imshow(seg_data[slice_idx], alpha=0.3, cmap='Reds')\n",
    "ax2.set_title('Abdomen Window with Segmentation Overlay')\n",
    "\n",
    "plt.show()"
   ]
  },
  {
   "cell_type": "code",
   "execution_count": null,
   "id": "33bf200f-729f-4306-9bff-de676183f3f8",
   "metadata": {},
   "outputs": [],
   "source": []
  }
 ],
 "metadata": {
  "kernelspec": {
   "display_name": "Python 3 (ipykernel)",
   "language": "python",
   "name": "python3"
  },
  "language_info": {
   "codemirror_mode": {
    "name": "ipython",
    "version": 3
   },
   "file_extension": ".py",
   "mimetype": "text/x-python",
   "name": "python",
   "nbconvert_exporter": "python",
   "pygments_lexer": "ipython3",
   "version": "3.12.7"
  }
 },
 "nbformat": 4,
 "nbformat_minor": 5
}
