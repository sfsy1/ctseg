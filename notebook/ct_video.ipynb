{
 "cells": [
  {
   "cell_type": "markdown",
   "id": "e413e5d8-c901-403b-a444-a3fd8a6cbcf7",
   "metadata": {},
   "source": [
    "# Generate CT slice video\n",
    "Lung and abdomen windows with optional segmentations"
   ]
  },
  {
   "cell_type": "code",
   "execution_count": null,
   "id": "17270778-df59-4846-b349-e29be5e0d3ad",
   "metadata": {},
   "outputs": [],
   "source": [
    "%load_ext autoreload\n",
    "%autoreload 2"
   ]
  },
  {
   "cell_type": "code",
   "execution_count": null,
   "id": "3b8dea75-9d98-4309-b4b3-bff1f39dcab5",
   "metadata": {},
   "outputs": [],
   "source": [
    "import os\n",
    "from concurrent.futures import ThreadPoolExecutor, wait\n",
    "from pathlib import Path\n",
    "\n",
    "import arrow\n",
    "import numpy as np\n",
    "import matplotlib.pyplot as plt\n",
    "import SimpleITK as sitk\n",
    "\n",
    "from tqdm import tqdm\n",
    "\n",
    "from video_utils import create_mp4\n",
    "from plot_utils import plot_contours, plot_text, plot_slice_full, get_slice_range, plot_and_save\n",
    "\n",
    "import matplotlib\n",
    "matplotlib.use('Agg')  # so figures r not cached"
   ]
  },
  {
   "cell_type": "markdown",
   "id": "a30256cc-495d-4a6d-aa51-dee8030dd48e",
   "metadata": {},
   "source": [
    "### Note\n",
    "This code assumes there is 1 volume and 1 segmentation per subject. If there are more volumes per subject, keep only the one that's segmented (mentioned in the spreadsheet in the dataset)"
   ]
  },
  {
   "cell_type": "code",
   "execution_count": null,
   "id": "37ec9b5f-87c9-42bc-8722-4bab0b62f5ed",
   "metadata": {},
   "outputs": [],
   "source": [
    "dataset_folder = Path(\"/home/liushifeng/Desktop/AutoPET Lymphoma/dataset C_lymphoma\")\n",
    "seg_folder     = Path(\"/home/liushifeng/Desktop/AutoPET Lymphoma/SEG_Lymphoma_C_Rifki-selected\")\n",
    "output_folder  = Path(\"../outputs\")\n",
    "frames_folder  = output_folder / \"frames\"\n",
    "videos_folder  = output_folder / \"videos\"\n",
    "\n",
    "ct_filename = \"CT.nii.gz\"\n",
    "ct_paths = list(dataset_folder.glob(f\"*/*/{ct_filename}\"))"
   ]
  },
  {
   "cell_type": "markdown",
   "id": "ee70dbca-235f-480e-a5f5-1f1e360a5927",
   "metadata": {},
   "source": [
    "## Generate video\n",
    "Done concurrently, set the appropriate workers based on CPU cores "
   ]
  },
  {
   "cell_type": "code",
   "execution_count": null,
   "id": "6d0ebe64-306a-4fee-9e52-ef648b44d435",
   "metadata": {
    "scrolled": true
   },
   "outputs": [],
   "source": [
    "max_workers = 16\n",
    "exists = True\n",
    "for i, ct_path in enumerate(ct_paths):\n",
    "    if \"2e97a9e5c2\" in str(ct_path):  # process will start after this\n",
    "        exists = False\n",
    "        continue\n",
    "    if exists:\n",
    "        continue\n",
    "    \n",
    "    dataset_name = ct_path.parts[-4]\n",
    "    patient = ct_path.parts[-3]\n",
    "    study = ct_path.parts[-2]\n",
    "\n",
    "    print(\n",
    "        f\"[{i+1:03d}/{len(ct_paths)}] \"\n",
    "        f\"Processing: {patient}/{study}\"\n",
    "    )\n",
    "    \n",
    "    scan_hash = ct_path.parent.parent.stem.split(\"_\")[1]\n",
    "    seg_path = list(seg_folder.glob(f\"*{scan_hash}*\"))[0]\n",
    "    \n",
    "    # load data\n",
    "    ct_img = sitk.ReadImage(ct_path)\n",
    "    seg_img = sitk.ReadImage(seg_path)\n",
    "    seg_img = sitk.Resample(seg_img, ct_img, sitk.Transform(), sitk.sitkNearestNeighbor, 0.0, seg_img.GetPixelID())\n",
    "\n",
    "    ct_array = sitk.GetArrayFromImage(ct_img)\n",
    "    seg_array = sitk.GetArrayFromImage(seg_img)\n",
    "\n",
    "    slice_range, n_slices = get_slice_range(seg_array)\n",
    "    \n",
    "    # create frames folder\n",
    "    video_name = f\"{patient}__{study}\"\n",
    "    ct_frames_folder = frames_folder / dataset_name / video_name\n",
    "    ct_frames_folder.mkdir(exist_ok=True, parents=True)\n",
    "\n",
    "    print(f\"Generating {n_slices} frames\")\n",
    "    # for i in tqdm(range(*slice_range)):\n",
    "    #     args = ct_array, seg_array, i, slice_range, ct_frames_folder\n",
    "    #     plot_and_save(args)\n",
    "    with ThreadPoolExecutor(max_workers=max_workers) as e:\n",
    "        futures = []\n",
    "        for i in range(*slice_range):\n",
    "            args = ct_array, seg_array, i, slice_range, ct_frames_folder\n",
    "            futures.append(e.submit(plot_and_save, args))\n",
    "        wait(futures)\n",
    "        \n",
    "    date_str = arrow.now().format(\"YYYY-MM-DD\")\n",
    "    output_path = videos_folder / dataset_name / f\"{video_name}_video_{date_str}.mp4\"\n",
    "    print(f\"Creating video: {output_path.name}\")\n",
    "    create_mp4(output_path, ct_frames_folder)\n",
    "    print(f\"Video saved as {output_path}\")\n",
    "    \n",
    "    print(\"-\"*30)"
   ]
  },
  {
   "cell_type": "code",
   "execution_count": null,
   "id": "fe1c53d2-276c-4064-b9d3-ba62bb238dac",
   "metadata": {},
   "outputs": [],
   "source": [
    "# visualize a single slice\n",
    "i = 1360\n",
    "fig = plot_slice_full(ct_array, seg_array, i, slice_range)\n",
    "fig.savefig(f\"test2.jpg\", bbox_inches='tight', pad_inches=0, dpi=180);"
   ]
  },
  {
   "cell_type": "markdown",
   "id": "bc90838e-b782-4810-ac30-767ee2f8b091",
   "metadata": {},
   "source": [
    "## Window and visualize"
   ]
  },
  {
   "cell_type": "code",
   "execution_count": null,
   "id": "9472b4cc-2328-4695-8d93-8f2de8e46d5a",
   "metadata": {},
   "outputs": [],
   "source": [
    "# Select a slice for visualization (e.g., middle slice)\n",
    "slice_idx = 1360\n",
    "\n",
    "# Create overlay\n",
    "# fig, ax = plt.subplots()\n",
    "fig, (ax1, ax2) = plt.subplots(1, 2, figsize=(12, 6))\n",
    "\n",
    "ax1.imshow(lung_ct[slice_idx], cmap='gray')\n",
    "# ax1.imshow(seg_data[slice_idx], alpha=0.3, cmap='Reds')\n",
    "ax1.set_title('Lung Window with Segmentation Overlay')\n",
    "\n",
    "ax2.imshow(abdomen_ct[slice_idx], cmap='gray')\n",
    "# ax2.imshow(seg_data[slice_idx], alpha=0.3, cmap='Reds')\n",
    "ax2.set_title('Abdomen Window with Segmentation Overlay')\n",
    "\n",
    "plt.show()"
   ]
  },
  {
   "cell_type": "markdown",
   "id": "5363dc53-bf78-4dab-b625-c6507026d302",
   "metadata": {},
   "source": [
    "---\n",
    "# Misc Scripts\n",
    "## Rename files"
   ]
  },
  {
   "cell_type": "code",
   "execution_count": null,
   "id": "4adc343f-01a0-471e-b690-86c61593c67a",
   "metadata": {},
   "outputs": [],
   "source": [
    "folder = Path(\"/home/liushifeng/Documents/GitHub/ctseg/outputs/dataset C_lymphoma/\")\n",
    "folder_names = os.listdir(folder)\n",
    "\n",
    "for n in tqdm(folder_names):\n",
    "    new_name = n.replace(\"dataset C_lymphoma__\", \"\").replace(\"dataset C_lymphoma-\", \"\")\n",
    "    src = folder / n\n",
    "    dst = folder / new_name\n",
    "    os.rename(src, dst)"
   ]
  }
 ],
 "metadata": {
  "kernelspec": {
   "display_name": "Python 3 (ipykernel)",
   "language": "python",
   "name": "python3"
  },
  "language_info": {
   "codemirror_mode": {
    "name": "ipython",
    "version": 3
   },
   "file_extension": ".py",
   "mimetype": "text/x-python",
   "name": "python",
   "nbconvert_exporter": "python",
   "pygments_lexer": "ipython3",
   "version": "3.12.7"
  }
 },
 "nbformat": 4,
 "nbformat_minor": 5
}
