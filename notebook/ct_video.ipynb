{
 "cells": [
  {
   "cell_type": "markdown",
   "id": "e413e5d8-c901-403b-a444-a3fd8a6cbcf7",
   "metadata": {},
   "source": [
    "# Generate CT slice video\n",
    "Lung and abdomen windows with optional segmentations"
   ]
  },
  {
   "cell_type": "code",
   "execution_count": null,
   "id": "17270778-df59-4846-b349-e29be5e0d3ad",
   "metadata": {},
   "outputs": [],
   "source": [
    "%load_ext autoreload\n",
    "%autoreload 2"
   ]
  },
  {
   "cell_type": "code",
   "execution_count": null,
   "id": "3b8dea75-9d98-4309-b4b3-bff1f39dcab5",
   "metadata": {},
   "outputs": [],
   "source": [
    "import os\n",
    "from concurrent.futures import ThreadPoolExecutor, wait\n",
    "from pathlib import Path\n",
    "\n",
    "import arrow\n",
    "import nibabel as nib\n",
    "import numpy as np\n",
    "import matplotlib.pyplot as plt\n",
    "import SimpleITK as sitk\n",
    "\n",
    "from tqdm import tqdm\n",
    "from skimage import measure\n",
    "\n",
    "from video_utils import create_mp4\n",
    "from plot_utils import plot_contours, plot_text, plot_slice_full, get_slice_range, plot_and_save"
   ]
  },
  {
   "cell_type": "code",
   "execution_count": null,
   "id": "37ec9b5f-87c9-42bc-8722-4bab0b62f5ed",
   "metadata": {},
   "outputs": [],
   "source": [
    "dataset_folder = Path(\"/home/liushifeng/Desktop/AutoPET Lymphoma/dataset B_lymphoma\")\n",
    "seg_folder     = Path(\"/home/liushifeng/Desktop/AutoPET Lymphoma/SEG_Lymphoma_B_Rifki-selected\")\n",
    "frames_folder  = Path(\"../frames\")\n",
    "output_folder  = Path(\"../outputs\")\n",
    "\n",
    "ct_filename = \"CT.nii.gz\"\n",
    "ct_paths = list(dataset_folder.glob(f\"*/*/{ct_filename}\"))"
   ]
  },
  {
   "cell_type": "code",
   "execution_count": null,
   "id": "a965c251-1679-44aa-8b57-a47e6ec06ab1",
   "metadata": {},
   "outputs": [],
   "source": [
    "dataset_name = dataset_folder.stem\n",
    "\n",
    "dataset_B_lymphoma"
   ]
  },
  {
   "cell_type": "code",
   "execution_count": null,
   "id": "135f85ce-157f-42f5-8025-0243d8906a51",
   "metadata": {},
   "outputs": [],
   "source": [
    "c = ct_paths[2]"
   ]
  },
  {
   "cell_type": "code",
   "execution_count": null,
   "id": "b9195197-37ff-4a6c-bf21-77110cb99e4d",
   "metadata": {},
   "outputs": [],
   "source": [
    "patient = c.parts[-3]\n",
    "study = c.parts[-2]"
   ]
  },
  {
   "cell_type": "code",
   "execution_count": null,
   "id": "b816a5b2-a0b9-44f4-8e21-c212000f5539",
   "metadata": {},
   "outputs": [],
   "source": [
    "ct_frames_folder"
   ]
  },
  {
   "cell_type": "code",
   "execution_count": null,
   "id": "02f8b917-3112-41fa-a2b3-e1f3749f1006",
   "metadata": {},
   "outputs": [],
   "source": [
    "args = ct_array, seg_array, i, slice_range, \".\"\n",
    "plot_and_save(args)"
   ]
  },
  {
   "cell_type": "code",
   "execution_count": null,
   "id": "6d0ebe64-306a-4fee-9e52-ef648b44d435",
   "metadata": {},
   "outputs": [],
   "source": [
    "for i, ct_path in enumerate(ct_paths):\n",
    "    # if i < 9:\n",
    "    #     continue\n",
    "    print(ct_path.parts[-3:])\n",
    "    patient = ct_path.parts[-3]\n",
    "    study = ct_path.parts[-2]\n",
    "\n",
    "    print(\n",
    "        f\"[{i:03d}/{len(ct_paths)}] \"\n",
    "        f\"Processing: {patient} {study}\"\n",
    "    )\n",
    "    \n",
    "    scan_hash = ct_path.parent.parent.stem.split(\"_\")[1]\n",
    "    print(scan_hash)\n",
    "    continue\n",
    "    seg_path = list(seg_folder.glob(f\"*{scan_hash}*\"))[0]\n",
    "    \n",
    "    # load data\n",
    "    ct_img = sitk.ReadImage(ct_path)\n",
    "    seg_img = sitk.ReadImage(seg_path)\n",
    "    seg_img = sitk.Resample(seg_img, ct_img, sitk.Transform(), sitk.sitkNearestNeighbor, 0.0, seg_img.GetPixelID())\n",
    "\n",
    "    ct_array = sitk.GetArrayFromImage(ct_img)\n",
    "    seg_array = sitk.GetArrayFromImage(seg_img)\n",
    "\n",
    "    slice_range, n_slices = get_slice_range(seg_array)\n",
    "    \n",
    "    # create frames folder\n",
    "    ct_frames_folder = frames_folder / dataset_slice_name\n",
    "    ct_frames_folder.mkdir(exist_ok=True)\n",
    "\n",
    "    break\n",
    "\n",
    "\n",
    "    \n",
    "    print(f\"Generating {n_slices} frames\")\n",
    "    # for i in tqdm(range(*slice_range)):\n",
    "    #     args = ct_array, seg_array, i, slice_range, ct_frames_folder\n",
    "    #     plot_and_save(args)\n",
    "    with ThreadPoolExecutor(max_workers=16) as e:\n",
    "        futures = []\n",
    "        for i in range(*slice_range):\n",
    "            args = ct_array, seg_array, i, slice_range, ct_frames_folder\n",
    "            futures.append(e.submit(plot_and_save, args))\n",
    "        wait(futures)\n",
    "\n",
    "    date_str = arrow.now().format(\"YYYY-MM-DD\")\n",
    "    output_path = output_folder / f\"{dataset_slice_name}_video_{date_str}.mp4\"\n",
    "\n",
    "    print(f\"Creating video: {output_path.name}\")\n",
    "    create_mp4(output_path, ct_frames_folder)\n",
    "    print(f\"Video saved as {output_path}\")\n",
    "    \n",
    "    print(\"-\"*30)"
   ]
  },
  {
   "cell_type": "code",
   "execution_count": null,
   "id": "fe1c53d2-276c-4064-b9d3-ba62bb238dac",
   "metadata": {},
   "outputs": [],
   "source": [
    "# visualize a slice\n",
    "i = 1360\n",
    "fig = plot_slice_full(ct_array, seg_array, i, slice_range)\n",
    "fig.savefig(f\"test2.jpg\", bbox_inches='tight', pad_inches=0, dpi=180);"
   ]
  },
  {
   "cell_type": "code",
   "execution_count": null,
   "id": "48021018-9e56-45b9-982e-ec5e15a0bb45",
   "metadata": {},
   "outputs": [],
   "source": []
  },
  {
   "cell_type": "markdown",
   "id": "bc90838e-b782-4810-ac30-767ee2f8b091",
   "metadata": {},
   "source": [
    "## Window/visualize"
   ]
  },
  {
   "cell_type": "code",
   "execution_count": null,
   "id": "1590cf1f-311f-490d-8894-e7fcff836aff",
   "metadata": {},
   "outputs": [],
   "source": [
    "# Define window settings\n",
    "lung_window = {'center': -600, 'width': 1500}\n",
    "abdomen_window = {'center': 40, 'width': 400}\n",
    "\n",
    "def apply_window(image, center, width):\n",
    "    window_min = center - width // 2\n",
    "    window_max = center + width // 2\n",
    "    return np.clip(image, window_min, window_max)"
   ]
  },
  {
   "cell_type": "code",
   "execution_count": null,
   "id": "c3cf8516-7aa3-430f-9d8a-876dc3de0d19",
   "metadata": {},
   "outputs": [],
   "source": [
    "# Apply windowing\n",
    "lung_ct = apply_window(ct_array, lung_window['center'], lung_window['width'])\n",
    "abdomen_ct = apply_window(ct_array, abdomen_window['center'], abdomen_window['width'])\n",
    "\n",
    "# Normalize for display\n",
    "lung_ct = (lung_ct - lung_ct.min()) / (lung_ct.max() - lung_ct.min())\n",
    "abdomen_ct = (abdomen_ct - abdomen_ct.min()) / (abdomen_ct.max() - abdomen_ct.min())"
   ]
  },
  {
   "cell_type": "code",
   "execution_count": null,
   "id": "9472b4cc-2328-4695-8d93-8f2de8e46d5a",
   "metadata": {},
   "outputs": [],
   "source": [
    "# Select a slice for visualization (e.g., middle slice)\n",
    "slice_idx = 1360\n",
    "\n",
    "# Create overlay\n",
    "# fig, ax = plt.subplots()\n",
    "fig, (ax1, ax2) = plt.subplots(1, 2, figsize=(12, 6))\n",
    "\n",
    "ax1.imshow(lung_ct[slice_idx], cmap='gray')\n",
    "# ax1.imshow(seg_data[slice_idx], alpha=0.3, cmap='Reds')\n",
    "ax1.set_title('Lung Window with Segmentation Overlay')\n",
    "\n",
    "ax2.imshow(abdomen_ct[slice_idx], cmap='gray')\n",
    "# ax2.imshow(seg_data[slice_idx], alpha=0.3, cmap='Reds')\n",
    "ax2.set_title('Abdomen Window with Segmentation Overlay')\n",
    "\n",
    "plt.show()"
   ]
  },
  {
   "cell_type": "code",
   "execution_count": null,
   "id": "33bf200f-729f-4306-9bff-de676183f3f8",
   "metadata": {},
   "outputs": [],
   "source": []
  }
 ],
 "metadata": {
  "kernelspec": {
   "display_name": "Python 3 (ipykernel)",
   "language": "python",
   "name": "python3"
  },
  "language_info": {
   "codemirror_mode": {
    "name": "ipython",
    "version": 3
   },
   "file_extension": ".py",
   "mimetype": "text/x-python",
   "name": "python",
   "nbconvert_exporter": "python",
   "pygments_lexer": "ipython3",
   "version": "3.12.7"
  }
 },
 "nbformat": 4,
 "nbformat_minor": 5
}
