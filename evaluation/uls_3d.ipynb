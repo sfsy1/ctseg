{
 "cells": [
  {
   "metadata": {},
   "cell_type": "markdown",
   "source": [
    "# 3D Seg Evaluation\n",
    " ULS23"
   ],
   "id": "34043284168768c6"
  },
  {
   "metadata": {},
   "cell_type": "code",
   "source": [
    "%load_ext autoreload\n",
    "%autoreload 2"
   ],
   "id": "302f3e48590d5643",
   "outputs": [],
   "execution_count": null
  },
  {
   "metadata": {},
   "cell_type": "code",
   "source": [
    "import os\n",
    "import warnings; warnings.filterwarnings(\"ignore\", category=SyntaxWarning)\n",
    "\n",
    "import matplotlib.pyplot as plt\n",
    "import pandas as pd\n",
    "from pathlib import Path\n",
    "from tqdm import tqdm\n",
    "\n",
    "import SimpleITK as sitk\n",
    "from evaluation.uls import unzip_files_in_dir, train_val_split\n",
    "\n",
    "## For unzipping files\n",
    "# unzip_files_in_dir(\"/media/liushifeng/KINGSTON/ULS Jan 2025/ULS23/novel_data/ULS23_DeepLesion3D/labels/\")"
   ],
   "id": "d85e430c5aaae727",
   "outputs": [],
   "execution_count": null
  },
  {
   "metadata": {},
   "cell_type": "markdown",
   "source": "train/val split",
   "id": "8093b2f0598a18e4"
  },
  {
   "metadata": {},
   "cell_type": "code",
   "source": [
    "data_folder = Path(\"/media/liushifeng/KINGSTON/ULS Jan 2025/ULS23/novel_data/ULS23_DeepLesion3D\")\n",
    "train_names, val_names = train_val_split(data_folder)  # 25% val, deterministic\n",
    "print(len(train_names), len(val_names))"
   ],
   "id": "ca535e4862453925",
   "outputs": [],
   "execution_count": null
  },
  {
   "metadata": {},
   "cell_type": "code",
   "source": [
    "lesion_name = \"003026_02_01_042_lesion_01\" # val_names[0] + \".nii.gz\"\n",
    "print(lesion_name)\n",
    "\n",
    "ct = sitk.ReadImage(data_folder / \"images\" / lesion_name)\n",
    "seg = sitk.ReadImage(data_folder / \"labels\" / lesion_name)\n",
    "\n",
    "# get array from seg\n",
    "ct_array = sitk.GetArrayFromImage(ct)\n",
    "seg_array = sitk.GetArrayFromImage(seg)"
   ],
   "id": "d0de40c1657fb2df",
   "outputs": [],
   "execution_count": null
  },
  {
   "metadata": {},
   "cell_type": "code",
   "source": [
    "import sys\n",
    "sys.path.append(\"../medsam\")\n",
    "\n",
    "from evaluation.eval_utils import evaluate_3d_metrics"
   ],
   "id": "b3f9a1f136a54c3a",
   "outputs": [],
   "execution_count": null
  },
  {
   "metadata": {},
   "cell_type": "code",
   "source": [
    "# from utils.plot import window_ct\n",
    "# from eval_utils import plot_seg, get_start_end_slice\n",
    "#\n",
    "# start, end = get_start_end_slice(seg_array, margin=1)\n",
    "#\n",
    "# for i in range(start, end + 1):\n",
    "#     ct_slice = ct_array[i, :, :]\n",
    "#     seg_slice = seg_array[i, :, :]\n",
    "#\n",
    "#     if ct_slice.min() == ct_slice.max():\n",
    "#         continue\n",
    "#\n",
    "#     lung, abdomen = window_ct(ct_slice)\n",
    "#     plot_seg(abdomen, seg_slice)\n",
    "#     plt.show()"
   ],
   "id": "32f7fe57a6418a3b",
   "outputs": [],
   "execution_count": null
  },
  {
   "metadata": {},
   "cell_type": "markdown",
   "source": "### Batch Eval",
   "id": "bcacbf0ebe56e880"
  },
  {
   "metadata": {},
   "cell_type": "code",
   "source": [
    "github = Path(\"/home/liushifeng/Documents/GitHub/\")\n",
    "\n",
    "pred_folder = github / Path(\"MedSAM/experiments/outputs/extend_3d/ULS_up_down/\")\n",
    "gt_folder = github / \"ULS23/annotations/ULS23/novel_data/ULS23_DeepLesion3D/labels/\""
   ],
   "id": "e22f42d941c4939f",
   "outputs": [],
   "execution_count": null
  },
  {
   "metadata": {},
   "cell_type": "code",
   "source": [
    "results = []\n",
    "for pred in tqdm(os.listdir(pred_folder)):\n",
    "    lesion_name = pred.replace(\"_pred.nrrd\", \"\")\n",
    "    pred_path = pred_folder / pred\n",
    "    gt_path = gt_folder / f\"{lesion_name}.nii.gz.zip\"\n",
    "    res = evaluate_3d_metrics(pred_path, gt_path)\n",
    "    res['lesion_name'] = lesion_name\n",
    "    results.append(res)\n",
    "\n",
    "df = pd.DataFrame(results).set_index('lesion_name')"
   ],
   "id": "69d80f82e28713f1",
   "outputs": [],
   "execution_count": null
  },
  {
   "metadata": {},
   "cell_type": "code",
   "source": [
    "# save\n",
    "df.to_csv(\"medsam_extend3d_results.csv\")"
   ],
   "id": "ae44587fdc30f838",
   "outputs": [],
   "execution_count": null
  },
  {
   "metadata": {},
   "cell_type": "markdown",
   "source": "### Visualize",
   "id": "e01578d6a9fa7ac"
  },
  {
   "metadata": {},
   "cell_type": "code",
   "source": [
    "import seaborn as sns\n",
    "sns.set_context('paper')\n",
    "sns.set_style('darkgrid')\n",
    "\n",
    "\n",
    "# load\n",
    "df = pd.read_csv(\"medsam_extend3d_results.csv\", index_col=\"lesion_name\")\n",
    "\n",
    "# add categories\n",
    "df['dice_cat'] = \"high\"\n",
    "df.loc[df['dice'].lt(df['dice'].quantile(0.67)), 'dice_cat'] = \"mid\"\n",
    "df.loc[df['dice'].lt(df['dice'].quantile(0.33)), 'dice_cat'] = \"low\""
   ],
   "id": "6da9900102a943cc",
   "outputs": [],
   "execution_count": null
  },
  {
   "metadata": {},
   "cell_type": "code",
   "source": "df.head()",
   "id": "98b2309961604fe0",
   "outputs": [],
   "execution_count": null
  },
  {
   "metadata": {},
   "cell_type": "code",
   "source": [
    "# remove some outliers\n",
    "df_viz = df[df.gt_volume.lt(1e4)]"
   ],
   "id": "8be153c4ac502d5b",
   "outputs": [],
   "execution_count": null
  },
  {
   "metadata": {},
   "cell_type": "code",
   "source": [
    "# show breakdown of these 2 columns\n",
    "df[['dice', 'volume_similarity']].describe().round(2)"
   ],
   "id": "6d438c55abc32e12",
   "outputs": [],
   "execution_count": null
  },
  {
   "metadata": {},
   "cell_type": "code",
   "source": [
    "sns.catplot(\n",
    "    df[['dice', 'volume_similarity']], color=\".9\", kind=\"box\", aspect=1, height=3,\n",
    "    flierprops = {'markerfacecolor': 'white', 'markeredgecolor': \"white\"}\n",
    ")\n",
    "sns.swarmplot(df[['dice', 'volume_similarity']], size=2);"
   ],
   "id": "d863829f3ccc35f0",
   "outputs": [],
   "execution_count": null
  },
  {
   "metadata": {},
   "cell_type": "code",
   "source": [
    "g = sns.PairGrid(\n",
    "    df_viz,\n",
    "    y_vars=[\"dice\", \"volume_similarity\"],\n",
    "    x_vars=['gt_volume', 'gt_ar_horizontal', 'gt_ar_vertical'],\n",
    ")\n",
    "g.map(\n",
    "    sns.regplot, scatter_kws={\"s\": 3}\n",
    "    # robust=True,\n",
    ")\n",
    "\n",
    "for i, ax in enumerate(g.axes.flat):\n",
    "    if i in [0]:\n",
    "        ax.set_xscale('log')\n",
    "# g.add_legend();"
   ],
   "id": "51f0f00bbe72d9b0",
   "outputs": [],
   "execution_count": null
  },
  {
   "metadata": {},
   "cell_type": "code",
   "source": "df[df['dice'].lt(df['dice'].quantile(0.1))].sample(2)",
   "id": "1bd41a2b242f58ab",
   "outputs": [],
   "execution_count": null
  },
  {
   "metadata": {},
   "cell_type": "code",
   "source": [
    "# sample 2 from the bottom 10% in terms of dice, 2 from middle 40-60% and 2 from top 10%\n",
    "metric = \"dice\"\n",
    "n = 10\n",
    "bad_samples = df[df[metric].lt(df[metric].quantile(0.1))].sample(n).index.tolist()\n",
    "mid_samples = df[df[metric].between(df[metric].quantile(0.4), df[metric].quantile(0.6))].sample(n).index.tolist()\n",
    "top_samples = df[df[metric].gt(df[metric].quantile(0.9))].sample(n).index.tolist()"
   ],
   "id": "40e457794edb76e7",
   "outputs": [],
   "execution_count": null
  },
  {
   "metadata": {},
   "cell_type": "code",
   "source": [
    "from evaluation.eval_utils import load_seg\n",
    "from utils.plot import window_ct\n",
    "from evaluation.eval_utils import plot_seg\n",
    "import numpy as np\n",
    "\n",
    "results_folder = Path(\"results\")"
   ],
   "id": "c33b5734c66cc002",
   "outputs": [],
   "execution_count": null
  },
  {
   "metadata": {},
   "cell_type": "code",
   "source": [
    "for s, d, v in tqdm(zip(df.index, df['dice'], df['volume_similarity'])):\n",
    "    # print(s)\n",
    "\n",
    "    ct = load_seg(data_folder / \"images\" / f\"{s}.nii.gz\")\n",
    "    pred = load_seg(pred_folder / (s + \"_pred.nrrd\"))\n",
    "    gt = load_seg(gt_folder / f\"{s}.nii.gz.zip\")\n",
    "\n",
    "    relevant_slices = [int(x) for x in np.nonzero(gt.sum(axis=(1,2)))[0]]\n",
    "    for i in relevant_slices[:5]:\n",
    "        img = ct[i]\n",
    "        lung, abdomen = window_ct(img)\n",
    "        fig = plot_seg(abdomen, pred[i], gt[i])\n",
    "        # plt.show()\n",
    "\n",
    "        lesion_folder = results_folder / f\"dice{str(int(d*100)).zfill(3)}_vol{str(int(v*100)).zfill(3)}__{s}\"\n",
    "        lesion_folder.mkdir(exist_ok=True)\n",
    "        fig.savefig(lesion_folder / f\"{i}.png\");\n",
    "        # close figure completely\n",
    "        plt.close(fig)"
   ],
   "id": "956578ae184d848b",
   "outputs": [],
   "execution_count": null
  },
  {
   "metadata": {},
   "cell_type": "markdown",
   "source": [
    "## Analysis\n",
    "Metrics vs\n",
    "- distance from key slice (max horizontal slice seg)\n",
    "- lesion size, category, aspect ratio\n",
    "\n",
    "### Visualize\n",
    "- Show worst, median, best\n",
    "\n",
    "### Robustness test\n",
    "- Add noise to the initial box (simulate human error)\n",
    "\n",
    "## Improvement to MedSam approach\n",
    "- Train a model to stop when object is no longer visible\n",
    "- Use an object tracker to get bbox, then use medsam on it\n"
   ],
   "id": "52a723205bccc292"
  }
 ],
 "metadata": {
  "kernelspec": {
   "display_name": "Python 3",
   "language": "python",
   "name": "python3"
  },
  "language_info": {
   "codemirror_mode": {
    "name": "ipython",
    "version": 2
   },
   "file_extension": ".py",
   "mimetype": "text/x-python",
   "name": "python",
   "nbconvert_exporter": "python",
   "pygments_lexer": "ipython2",
   "version": "2.7.6"
  }
 },
 "nbformat": 4,
 "nbformat_minor": 5
}
